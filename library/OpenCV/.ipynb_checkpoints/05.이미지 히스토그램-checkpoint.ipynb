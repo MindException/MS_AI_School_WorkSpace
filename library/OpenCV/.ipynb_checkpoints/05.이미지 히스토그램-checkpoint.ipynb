{
 "cells": [
  {
   "cell_type": "markdown",
   "id": "c2999cc3",
   "metadata": {},
   "source": [
    "### 라이브러리 추가"
   ]
  },
  {
   "cell_type": "code",
   "execution_count": 1,
   "id": "4ca5a9a5",
   "metadata": {},
   "outputs": [],
   "source": [
    "import cv2\n",
    "import numpy as np\n",
    "import matplotlib.pyplot as plt\n",
    "\n",
    "def image_show(image):\n",
    "    cv2.imshow(\"show\", image)\n",
    "    cv2.waitKey(0)"
   ]
  },
  {
   "cell_type": "markdown",
   "id": "4f17f0ac",
   "metadata": {},
   "source": [
    "### 이미지 색의 평균값"
   ]
  },
  {
   "cell_type": "code",
   "execution_count": 2,
   "id": "719608b9",
   "metadata": {},
   "outputs": [
    {
     "name": "stdout",
     "output_type": "stream",
     "text": [
      "Channels >>  (205.8482456140351, 205.4207560568087, 207.63455722639935, 0.0)\n",
      "[[207.63455723 205.42075606 205.84824561]]\n"
     ]
    }
   ],
   "source": [
    "image_path = \"./img/cat.jpg\"\n",
    "image = cv2.imread(image_path)\n",
    "channels = cv2.mean(image)\n",
    "print(\"Channels >> \", channels)\n",
    "observation = np.array([(channels[2], channels[1], channels[0])])\n",
    "print(observation)"
   ]
  },
  {
   "cell_type": "markdown",
   "id": "bbf1fcc4",
   "metadata": {},
   "source": [
    "### 이미지 컬러 히스토그램"
   ]
  },
  {
   "cell_type": "code",
   "execution_count": 4,
   "id": "1b891a0b",
   "metadata": {},
   "outputs": [
    {
     "data": {
      "image/png": "[encoded data removed]",
      "text/plain": [
       "<Figure size 432x288 with 1 Axes>"
      ]
     },
     "metadata": {
      "needs_background": "light"
     },
     "output_type": "display_data"
    }
   ],
   "source": [
    "image_path = \"./img/cat.jpg\"\n",
    "\n",
    "image_bgr = cv2.imread(image_path)\n",
    "image_rgb = cv2.cvtColor(image_bgr, cv2.COLOR_BGR2RGB)\n",
    "\n",
    "features = []  # 특성 값을 담을 리스트\n",
    "colors = (\"r\", \"g\", \"b\")  # 각 컬러 채널에 대해 히스토그램을 계산\n",
    "\n",
    "for i, channel in enumerate(colors):\n",
    "    # cv2.calcHist([이미지], [채널 인덱스] , [마스크 없으므로 None],\n",
    "    # [히스토그램 크기], [범위 : 0 ~ 256])\n",
    "    histogram = cv2.calcHist([image_rgb], [i], None, [256], [0, 256])\n",
    "    plt.plot(histogram, color=channel)\n",
    "    plt.xlim([0, 256])\n",
    "\n",
    "plt.show()"
   ]
  }
 ],
 "metadata": {
  "kernelspec": {
   "display_name": "Python 3 (ipykernel)",
   "language": "python",
   "name": "python3"
  },
  "language_info": {
   "codemirror_mode": {
    "name": "ipython",
    "version": 3
   },
   "file_extension": ".py",
   "mimetype": "text/x-python",
   "name": "python",
   "nbconvert_exporter": "python",
   "pygments_lexer": "ipython3",
   "version": "3.9.7"
  }
 },
 "nbformat": 4,
 "nbformat_minor": 5
}
