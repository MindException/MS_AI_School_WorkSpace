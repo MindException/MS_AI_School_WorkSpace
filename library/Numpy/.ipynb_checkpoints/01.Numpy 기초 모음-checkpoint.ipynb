{
 "cells": [
  {
   "cell_type": "markdown",
   "id": "6209b81c",
   "metadata": {},
   "source": [
    "## Numpy Array 생성과 저장\n",
    "\n",
    "### 단일 객체 저장"
   ]
  },
  {
   "cell_type": "code",
   "execution_count": 1,
   "id": "966ee5dc",
   "metadata": {},
   "outputs": [
    {
     "name": "stdout",
     "output_type": "stream",
     "text": [
      "[0 1 2 3 4 5 6 7 8 9]\n",
      "result >>  [0 1 2 3 4 5 6 7 8 9]\n"
     ]
    }
   ],
   "source": [
    "import numpy as np\n",
    "\n",
    "# 단일 객체 저장 및 불러오기\n",
    "array = np.arange(0, 10)\n",
    "print(array)\n",
    "\n",
    "# .npy 파일에다가 저장하기\n",
    "np.save(\"./save.npy\", array)\n",
    "\n",
    "# 불러오기\n",
    "result = np.load('./save.npy')\n",
    "print(\"result >> \", result)"
   ]
  },
  {
   "cell_type": "markdown",
   "id": "50733306",
   "metadata": {},
   "source": [
    "### 복수 객체 저장"
   ]
  },
  {
   "cell_type": "code",
   "execution_count": 2,
   "id": "0250923c",
   "metadata": {},
   "outputs": [
    {
     "name": "stdout",
     "output_type": "stream",
     "text": [
      "[0 1 2 3 4 5 6 7 8 9] [ 0  1  2  3  4  5  6  7  8  9 10 11 12 13 14 15 16 17 18 19]\n",
      "result1 >>  [0 1 2 3 4 5 6 7 8 9]\n",
      "result2 >>  [ 0  1  2  3  4  5  6  7  8  9 10 11 12 13 14 15 16 17 18 19]\n"
     ]
    }
   ],
   "source": [
    "# 복수 객체 저장을 위한 데이터 생성\n",
    "array1 = np.arange(0, 10)\n",
    "array2 = np.arange(0, 20)\n",
    "print(array1, array2)\n",
    "\n",
    "# 저장하기\n",
    "np.savez('./save.npz', array1=array1, array2=array2)\n",
    "\n",
    "# 객체 불러오기\n",
    "data = np.load('./save.npz')\n",
    "result1 = data['array1']\n",
    "result2 = data['array2']\n",
    "\n",
    "print(\"result1 >> \", result1)\n",
    "print(\"result2 >> \", result2)"
   ]
  },
  {
   "cell_type": "markdown",
   "id": "c1328480",
   "metadata": {},
   "source": [
    "## Numpy Array 정렬\n",
    "\n",
    "### 기본 오름차순 내림차순 정령"
   ]
  },
  {
   "cell_type": "code",
   "execution_count": 3,
   "id": "3b563561",
   "metadata": {},
   "outputs": [
    {
     "name": "stdout",
     "output_type": "stream",
     "text": [
      "오름차순 >>  [ 5  7 12 15 20]\n",
      "내림 차순 >>  [20 15 12  7  5]\n"
     ]
    }
   ],
   "source": [
    "# def -> 오름차순 정렬 형태\n",
    "array = np.array([15, 20, 5, 12, 7])\n",
    "np.save(\"./array.npy\", array)\n",
    "array_data = np.load('./array.npy')\n",
    "array_data.sort()\n",
    "print(\"오름차순 >> \", array_data)  # [ 5  7 12 15 20]\n",
    "\n",
    "# 내림차순 정렬\n",
    "print(\"내림 차순 >> \", array_data[::-1])"
   ]
  },
  {
   "cell_type": "markdown",
   "id": "4d3d8299",
   "metadata": {},
   "source": [
    "### 열 기준 정렬"
   ]
  },
  {
   "cell_type": "code",
   "execution_count": 4,
   "id": "08e35652",
   "metadata": {},
   "outputs": [
    {
     "name": "stdout",
     "output_type": "stream",
     "text": [
      "각 열을 기준으로 정렬 전 \n",
      " [[ 5  2  7  6]\n",
      " [ 2  3 10 15]]\n",
      "각 열을 기준으로 정렬 후 \n",
      " [[ 2  2  7  6]\n",
      " [ 5  3 10 15]]\n"
     ]
    }
   ],
   "source": [
    "array = np.array([[5, 2, 7, 6], [2, 3, 10, 15]])\n",
    "print(\"각 열을 기준으로 정렬 전 \\n\", array)\n",
    "array.sort(axis=0)\n",
    "print(\"각 열을 기준으로 정렬 후 \\n\", array)"
   ]
  },
  {
   "cell_type": "markdown",
   "id": "4a76ac97",
   "metadata": {},
   "source": [
    "## linespace"
   ]
  },
  {
   "cell_type": "code",
   "execution_count": 6,
   "id": "0bc3097b",
   "metadata": {},
   "outputs": [
    {
     "name": "stdout",
     "output_type": "stream",
     "text": [
      "결과: [ 0.   2.5  5.   7.5 10. ]\n"
     ]
    }
   ],
   "source": [
    "array = np.linspace(0, 10, 5)\n",
    "print(\"결과:\",array)"
   ]
  },
  {
   "cell_type": "markdown",
   "id": "3476681c",
   "metadata": {},
   "source": [
    "## 랜덤 값\n",
    "\n",
    "#### 기본 값"
   ]
  },
  {
   "cell_type": "code",
   "execution_count": 7,
   "id": "138d2c22",
   "metadata": {},
   "outputs": [
    {
     "data": {
      "text/plain": [
       "array([[1, 0, 7],\n",
       "       [6, 3, 2]])"
      ]
     },
     "execution_count": 7,
     "metadata": {},
     "output_type": "execute_result"
    }
   ],
   "source": [
    "np.random.randint(0, 10, (2, 3))"
   ]
  },
  {
   "cell_type": "markdown",
   "id": "3d5f7fda",
   "metadata": {},
   "source": [
    "#### 시드값 고정\n",
    "시드 값을 고정하게 되면 실행결과마다 동일한 값이 나오게 된다"
   ]
  },
  {
   "cell_type": "code",
   "execution_count": 8,
   "id": "50a8ac23",
   "metadata": {
    "scrolled": true
   },
   "outputs": [
    {
     "name": "stdout",
     "output_type": "stream",
     "text": [
      "[[9 3 5]\n",
      " [8 9 5]]\n"
     ]
    }
   ],
   "source": [
    "np.random.seed(19970628)\n",
    "print(np.random.randint(0, 10, (2, 3)))"
   ]
  },
  {
   "cell_type": "markdown",
   "id": "6579133b",
   "metadata": {},
   "source": [
    "## 배열 복사"
   ]
  },
  {
   "cell_type": "code",
   "execution_count": 9,
   "id": "017bfa81",
   "metadata": {},
   "outputs": [
    {
     "name": "stdout",
     "output_type": "stream",
     "text": [
      "[0 1 2 3 4 5 6 7 8 9]\n",
      "[99  1  2  3  4  5  6  7  8  9]\n"
     ]
    }
   ],
   "source": [
    "array1 = np.arange(0, 10)\n",
    "array2 = array1.copy()\n",
    "array2[0] = 99\n",
    "print(array1)\n",
    "print(array2)"
   ]
  },
  {
   "cell_type": "markdown",
   "id": "d055e533",
   "metadata": {},
   "source": [
    "## 중복 요소 삭제와 비교\n",
    "\n",
    "#### 삭제"
   ]
  },
  {
   "cell_type": "code",
   "execution_count": 12,
   "id": "cb70b244",
   "metadata": {},
   "outputs": [
    {
     "name": "stdout",
     "output_type": "stream",
     "text": [
      "중복 처리 전 >>  [1 2 1 2 3 4 3 4 5]\n",
      "중복 처리 후 >>  [1 2 3 4 5]\n"
     ]
    }
   ],
   "source": [
    "array = np.array([1, 2, 1, 2, 3, 4, 3, 4, 5])\n",
    "print(\"중복 처리 전 >> \", array)\n",
    "print(\"중복 처리 후 >> \", np.unique(array))"
   ]
  },
  {
   "cell_type": "markdown",
   "id": "026edb31",
   "metadata": {},
   "source": [
    "#### 비교후 TrueFalse 반환"
   ]
  },
  {
   "cell_type": "code",
   "execution_count": 13,
   "id": "cdc9333f",
   "metadata": {},
   "outputs": [
    {
     "name": "stdout",
     "output_type": "stream",
     "text": [
      "[ True  True  True False False False False]\n"
     ]
    }
   ],
   "source": [
    "array = np.array([1, 2, 3, 4, 5, 6, 7])\n",
    "iwantit = np.array([1, 2, 3, 10])\n",
    "print(np.isin(array, iwantit))"
   ]
  },
  {
   "cell_type": "code",
   "execution_count": null,
   "id": "aba814b8",
   "metadata": {},
   "outputs": [],
   "source": []
  },
  {
   "cell_type": "code",
   "execution_count": null,
   "id": "98f3bbde",
   "metadata": {},
   "outputs": [],
   "source": []
  }
 ],
 "metadata": {
  "kernelspec": {
   "display_name": "Python 3 (ipykernel)",
   "language": "python",
   "name": "python3"
  },
  "language_info": {
   "codemirror_mode": {
    "name": "ipython",
    "version": 3
   },
   "file_extension": ".py",
   "mimetype": "text/x-python",
   "name": "python",
   "nbconvert_exporter": "python",
   "pygments_lexer": "ipython3",
   "version": "3.9.7"
  }
 },
 "nbformat": 4,
 "nbformat_minor": 5
}
