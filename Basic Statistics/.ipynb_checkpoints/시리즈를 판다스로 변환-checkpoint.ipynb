{
 "cells": [
  {
   "cell_type": "code",
   "execution_count": 2,
   "id": "710165e6",
   "metadata": {},
   "outputs": [],
   "source": [
    "import pandas as pd"
   ]
  },
  {
   "cell_type": "code",
   "execution_count": 15,
   "id": "e4c6c3b9",
   "metadata": {},
   "outputs": [
    {
     "data": {
      "text/plain": [
       "지역1\n",
       "서울     1116\n",
       "부산    12259\n",
       "인천    65119\n",
       "대구    16699\n",
       "Name: 총 생산량1, dtype: int64"
      ]
     },
     "execution_count": 15,
     "metadata": {},
     "output_type": "execute_result"
    }
   ],
   "source": [
    "s1 = pd.Series([1116, 12259, 65119, 16699],\n",
    "index=[\"서울\", \"부산\", \"인천\", \"대구\"])\n",
    "s1.name = \"총 생산량1\"\n",
    "s1.index.name = \"지역1\"\n",
    "s1"
   ]
  },
  {
   "cell_type": "code",
   "execution_count": 31,
   "id": "3d0c873d",
   "metadata": {},
   "outputs": [
    {
     "data": {
      "text/plain": [
       "지역2\n",
       "서울     1116\n",
       "부산    12259\n",
       "인천    65119\n",
       "대구    16699\n",
       "Name: 총 생산량2, dtype: int64"
      ]
     },
     "execution_count": 31,
     "metadata": {},
     "output_type": "execute_result"
    }
   ],
   "source": [
    "s2 = pd.Series([1116, 12259, 65119, 16699],\n",
    "index=[\"서울\", \"부산\", \"인천\", \"대구\"])\n",
    "s2.name = \"총 생산량2\"\n",
    "s2.index.name = \"지역2\"\n",
    "s2"
   ]
  },
  {
   "cell_type": "code",
   "execution_count": 14,
   "id": "88c677ce",
   "metadata": {},
   "outputs": [
    {
     "data": {
      "text/html": [
       "<div>\n",
       "<style scoped>\n",
       "    .dataframe tbody tr th:only-of-type {\n",
       "        vertical-align: middle;\n",
       "    }\n",
       "\n",
       "    .dataframe tbody tr th {\n",
       "        vertical-align: top;\n",
       "    }\n",
       "\n",
       "    .dataframe thead th {\n",
       "        text-align: right;\n",
       "    }\n",
       "</style>\n",
       "<table border=\"1\" class=\"dataframe\">\n",
       "  <thead>\n",
       "    <tr style=\"text-align: right;\">\n",
       "      <th></th>\n",
       "      <th>s1</th>\n",
       "    </tr>\n",
       "  </thead>\n",
       "  <tbody>\n",
       "    <tr>\n",
       "      <th>서울</th>\n",
       "      <td>1116</td>\n",
       "    </tr>\n",
       "    <tr>\n",
       "      <th>부산</th>\n",
       "      <td>12259</td>\n",
       "    </tr>\n",
       "    <tr>\n",
       "      <th>인천</th>\n",
       "      <td>65119</td>\n",
       "    </tr>\n",
       "    <tr>\n",
       "      <th>대구</th>\n",
       "      <td>16699</td>\n",
       "    </tr>\n",
       "  </tbody>\n",
       "</table>\n",
       "</div>"
      ],
      "text/plain": [
       "       s1\n",
       "서울   1116\n",
       "부산  12259\n",
       "인천  65119\n",
       "대구  16699"
      ]
     },
     "execution_count": 14,
     "metadata": {},
     "output_type": "execute_result"
    }
   ],
   "source": [
    "#name들이 없는 경우\n",
    "sd1 = pd.DataFrame(s1, columns = [\"s1\",])\n",
    "sd1"
   ]
  },
  {
   "cell_type": "code",
   "execution_count": 17,
   "id": "87f59809",
   "metadata": {},
   "outputs": [
    {
     "data": {
      "text/html": [
       "<div>\n",
       "<style scoped>\n",
       "    .dataframe tbody tr th:only-of-type {\n",
       "        vertical-align: middle;\n",
       "    }\n",
       "\n",
       "    .dataframe tbody tr th {\n",
       "        vertical-align: top;\n",
       "    }\n",
       "\n",
       "    .dataframe thead th {\n",
       "        text-align: right;\n",
       "    }\n",
       "</style>\n",
       "<table border=\"1\" class=\"dataframe\">\n",
       "  <thead>\n",
       "    <tr style=\"text-align: right;\">\n",
       "      <th></th>\n",
       "      <th>총 생산량1</th>\n",
       "    </tr>\n",
       "    <tr>\n",
       "      <th>지역1</th>\n",
       "      <th></th>\n",
       "    </tr>\n",
       "  </thead>\n",
       "  <tbody>\n",
       "    <tr>\n",
       "      <th>서울</th>\n",
       "      <td>1116</td>\n",
       "    </tr>\n",
       "    <tr>\n",
       "      <th>부산</th>\n",
       "      <td>12259</td>\n",
       "    </tr>\n",
       "    <tr>\n",
       "      <th>인천</th>\n",
       "      <td>65119</td>\n",
       "    </tr>\n",
       "    <tr>\n",
       "      <th>대구</th>\n",
       "      <td>16699</td>\n",
       "    </tr>\n",
       "  </tbody>\n",
       "</table>\n",
       "</div>"
      ],
      "text/plain": [
       "     총 생산량1\n",
       "지역1        \n",
       "서울     1116\n",
       "부산    12259\n",
       "인천    65119\n",
       "대구    16699"
      ]
     },
     "execution_count": 17,
     "metadata": {},
     "output_type": "execute_result"
    }
   ],
   "source": [
    "#name들이 있는 경우\n",
    "sd1 = pd.DataFrame(s1)\n",
    "sd1"
   ]
  },
  {
   "cell_type": "markdown",
   "id": "f12dd0f2",
   "metadata": {},
   "source": [
    "여기서 중요한 점은 시리즈에서 name을 설정할 경우 이 것이 데이터프레임으로 변환 시 columns가 된다는 것이다."
   ]
  },
  {
   "cell_type": "code",
   "execution_count": 18,
   "id": "5f3e758c",
   "metadata": {},
   "outputs": [
    {
     "data": {
      "text/plain": [
       "Index(['총 생산량1'], dtype='object')"
      ]
     },
     "execution_count": 18,
     "metadata": {},
     "output_type": "execute_result"
    }
   ],
   "source": [
    "sd1.columns"
   ]
  },
  {
   "cell_type": "code",
   "execution_count": 32,
   "id": "774dfeda",
   "metadata": {},
   "outputs": [
    {
     "data": {
      "text/html": [
       "<div>\n",
       "<style scoped>\n",
       "    .dataframe tbody tr th:only-of-type {\n",
       "        vertical-align: middle;\n",
       "    }\n",
       "\n",
       "    .dataframe tbody tr th {\n",
       "        vertical-align: top;\n",
       "    }\n",
       "\n",
       "    .dataframe thead th {\n",
       "        text-align: right;\n",
       "    }\n",
       "</style>\n",
       "<table border=\"1\" class=\"dataframe\">\n",
       "  <thead>\n",
       "    <tr style=\"text-align: right;\">\n",
       "      <th></th>\n",
       "      <th>총 생산량2</th>\n",
       "    </tr>\n",
       "    <tr>\n",
       "      <th>지역2</th>\n",
       "      <th></th>\n",
       "    </tr>\n",
       "  </thead>\n",
       "  <tbody>\n",
       "    <tr>\n",
       "      <th>서울</th>\n",
       "      <td>1116</td>\n",
       "    </tr>\n",
       "    <tr>\n",
       "      <th>부산</th>\n",
       "      <td>12259</td>\n",
       "    </tr>\n",
       "    <tr>\n",
       "      <th>인천</th>\n",
       "      <td>65119</td>\n",
       "    </tr>\n",
       "    <tr>\n",
       "      <th>대구</th>\n",
       "      <td>16699</td>\n",
       "    </tr>\n",
       "  </tbody>\n",
       "</table>\n",
       "</div>"
      ],
      "text/plain": [
       "     총 생산량2\n",
       "지역2        \n",
       "서울     1116\n",
       "부산    12259\n",
       "인천    65119\n",
       "대구    16699"
      ]
     },
     "execution_count": 32,
     "metadata": {},
     "output_type": "execute_result"
    }
   ],
   "source": [
    "sd2 = pd.DataFrame(s2)\n",
    "sd2"
   ]
  },
  {
   "cell_type": "code",
   "execution_count": 33,
   "id": "e546b83e",
   "metadata": {},
   "outputs": [
    {
     "data": {
      "text/html": [
       "<div>\n",
       "<style scoped>\n",
       "    .dataframe tbody tr th:only-of-type {\n",
       "        vertical-align: middle;\n",
       "    }\n",
       "\n",
       "    .dataframe tbody tr th {\n",
       "        vertical-align: top;\n",
       "    }\n",
       "\n",
       "    .dataframe thead th {\n",
       "        text-align: right;\n",
       "    }\n",
       "</style>\n",
       "<table border=\"1\" class=\"dataframe\">\n",
       "  <thead>\n",
       "    <tr style=\"text-align: right;\">\n",
       "      <th></th>\n",
       "      <th>총 생산량1</th>\n",
       "      <th>총 생산량2</th>\n",
       "    </tr>\n",
       "    <tr>\n",
       "      <th>지역1</th>\n",
       "      <th></th>\n",
       "      <th></th>\n",
       "    </tr>\n",
       "  </thead>\n",
       "  <tbody>\n",
       "    <tr>\n",
       "      <th>서울</th>\n",
       "      <td>NaN</td>\n",
       "      <td>NaN</td>\n",
       "    </tr>\n",
       "    <tr>\n",
       "      <th>부산</th>\n",
       "      <td>NaN</td>\n",
       "      <td>NaN</td>\n",
       "    </tr>\n",
       "    <tr>\n",
       "      <th>인천</th>\n",
       "      <td>NaN</td>\n",
       "      <td>NaN</td>\n",
       "    </tr>\n",
       "    <tr>\n",
       "      <th>대구</th>\n",
       "      <td>NaN</td>\n",
       "      <td>NaN</td>\n",
       "    </tr>\n",
       "  </tbody>\n",
       "</table>\n",
       "</div>"
      ],
      "text/plain": [
       "     총 생산량1  총 생산량2\n",
       "지역1                \n",
       "서울      NaN     NaN\n",
       "부산      NaN     NaN\n",
       "인천      NaN     NaN\n",
       "대구      NaN     NaN"
      ]
     },
     "execution_count": 33,
     "metadata": {},
     "output_type": "execute_result"
    }
   ],
   "source": [
    "all_s = sd1 + sd2\n",
    "all_s"
   ]
  },
  {
   "cell_type": "code",
   "execution_count": 41,
   "id": "fa31ae08",
   "metadata": {},
   "outputs": [
    {
     "data": {
      "text/html": [
       "<div>\n",
       "<style scoped>\n",
       "    .dataframe tbody tr th:only-of-type {\n",
       "        vertical-align: middle;\n",
       "    }\n",
       "\n",
       "    .dataframe tbody tr th {\n",
       "        vertical-align: top;\n",
       "    }\n",
       "\n",
       "    .dataframe thead th {\n",
       "        text-align: right;\n",
       "    }\n",
       "</style>\n",
       "<table border=\"1\" class=\"dataframe\">\n",
       "  <thead>\n",
       "    <tr style=\"text-align: right;\">\n",
       "      <th></th>\n",
       "      <th>서울</th>\n",
       "      <th>부산</th>\n",
       "      <th>인천</th>\n",
       "      <th>대구</th>\n",
       "    </tr>\n",
       "  </thead>\n",
       "  <tbody>\n",
       "    <tr>\n",
       "      <th>총 생산량1</th>\n",
       "      <td>1116</td>\n",
       "      <td>12259</td>\n",
       "      <td>65119</td>\n",
       "      <td>16699</td>\n",
       "    </tr>\n",
       "    <tr>\n",
       "      <th>총 생산량2</th>\n",
       "      <td>1116</td>\n",
       "      <td>12259</td>\n",
       "      <td>65119</td>\n",
       "      <td>16699</td>\n",
       "    </tr>\n",
       "  </tbody>\n",
       "</table>\n",
       "</div>"
      ],
      "text/plain": [
       "          서울     부산     인천     대구\n",
       "총 생산량1  1116  12259  65119  16699\n",
       "총 생산량2  1116  12259  65119  16699"
      ]
     },
     "execution_count": 41,
     "metadata": {},
     "output_type": "execute_result"
    }
   ],
   "source": [
    "all_s = pd.DataFrame([s1, s2])\n",
    "all_s"
   ]
  },
  {
   "cell_type": "markdown",
   "id": "fba189ac",
   "metadata": {},
   "source": [
    "두 데이터 프레임 합치기"
   ]
  },
  {
   "cell_type": "code",
   "execution_count": 42,
   "id": "db1be94a",
   "metadata": {},
   "outputs": [
    {
     "data": {
      "text/html": [
       "<div>\n",
       "<style scoped>\n",
       "    .dataframe tbody tr th:only-of-type {\n",
       "        vertical-align: middle;\n",
       "    }\n",
       "\n",
       "    .dataframe tbody tr th {\n",
       "        vertical-align: top;\n",
       "    }\n",
       "\n",
       "    .dataframe thead th {\n",
       "        text-align: right;\n",
       "    }\n",
       "</style>\n",
       "<table border=\"1\" class=\"dataframe\">\n",
       "  <thead>\n",
       "    <tr style=\"text-align: right;\">\n",
       "      <th></th>\n",
       "      <th>총 생산량1</th>\n",
       "      <th>총 생산량2</th>\n",
       "    </tr>\n",
       "  </thead>\n",
       "  <tbody>\n",
       "    <tr>\n",
       "      <th>서울</th>\n",
       "      <td>1116</td>\n",
       "      <td>1116</td>\n",
       "    </tr>\n",
       "    <tr>\n",
       "      <th>부산</th>\n",
       "      <td>12259</td>\n",
       "      <td>12259</td>\n",
       "    </tr>\n",
       "    <tr>\n",
       "      <th>인천</th>\n",
       "      <td>65119</td>\n",
       "      <td>65119</td>\n",
       "    </tr>\n",
       "    <tr>\n",
       "      <th>대구</th>\n",
       "      <td>16699</td>\n",
       "      <td>16699</td>\n",
       "    </tr>\n",
       "  </tbody>\n",
       "</table>\n",
       "</div>"
      ],
      "text/plain": [
       "    총 생산량1  총 생산량2\n",
       "서울    1116    1116\n",
       "부산   12259   12259\n",
       "인천   65119   65119\n",
       "대구   16699   16699"
      ]
     },
     "execution_count": 42,
     "metadata": {},
     "output_type": "execute_result"
    }
   ],
   "source": [
    "all_s = pd.merge(sd1, sd2, right_index = True,\n",
    "               left_index = True)\n",
    "all_s"
   ]
  },
  {
   "cell_type": "code",
   "execution_count": 45,
   "id": "b42efdcd",
   "metadata": {},
   "outputs": [
    {
     "data": {
      "text/plain": [
       "지역1\n",
       "서울      2232\n",
       "부산     24518\n",
       "인천    130238\n",
       "대구     33398\n",
       "dtype: int64"
      ]
     },
     "execution_count": 45,
     "metadata": {},
     "output_type": "execute_result"
    }
   ],
   "source": [
    "all_s = sd1[\"총 생산량1\"] + sd2[\"총 생산량2\"]\n",
    "all_s"
   ]
  },
  {
   "cell_type": "code",
   "execution_count": null,
   "id": "3141b550",
   "metadata": {},
   "outputs": [],
   "source": []
  }
 ],
 "metadata": {
  "kernelspec": {
   "display_name": "Python 3 (ipykernel)",
   "language": "python",
   "name": "python3"
  },
  "language_info": {
   "codemirror_mode": {
    "name": "ipython",
    "version": 3
   },
   "file_extension": ".py",
   "mimetype": "text/x-python",
   "name": "python",
   "nbconvert_exporter": "python",
   "pygments_lexer": "ipython3",
   "version": "3.9.7"
  }
 },
 "nbformat": 4,
 "nbformat_minor": 5
}
