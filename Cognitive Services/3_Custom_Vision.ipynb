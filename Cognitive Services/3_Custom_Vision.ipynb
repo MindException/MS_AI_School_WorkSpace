{
  "nbformat": 4,
  "nbformat_minor": 0,
  "metadata": {
    "colab": {
      "provenance": [],
      "collapsed_sections": []
    },
    "kernelspec": {
      "name": "python3",
      "display_name": "Python 3"
    },
    "language_info": {
      "name": "python"
    }
  },
  "cells": [
    {
      "cell_type": "code",
      "execution_count": 1,
      "metadata": {
        "colab": {
          "base_uri": "https://localhost:8080/"
        },
        "id": "Cu4pZUiIrgv5",
        "outputId": "6a2c0c3a-e0e9-4242-c5e5-b265d9953302"
      },
      "outputs": [
        {
          "output_type": "stream",
          "name": "stdout",
          "text": [
            "Looking in indexes: https://pypi.org/simple, https://us-python.pkg.dev/colab-wheels/public/simple/\n",
            "Collecting azure-cognitiveservices-vision-customvision\n",
            "  Downloading azure_cognitiveservices_vision_customvision-3.1.0-py2.py3-none-any.whl (62 kB)\n",
            "\u001b[K     |████████████████████████████████| 62 kB 471 kB/s \n",
            "\u001b[?25hCollecting msrest>=0.5.0\n",
            "  Downloading msrest-0.7.1-py3-none-any.whl (85 kB)\n",
            "\u001b[K     |████████████████████████████████| 85 kB 4.1 MB/s \n",
            "\u001b[?25hCollecting azure-common~=1.1\n",
            "  Downloading azure_common-1.1.28-py2.py3-none-any.whl (14 kB)\n",
            "Requirement already satisfied: requests-oauthlib>=0.5.0 in /usr/local/lib/python3.7/dist-packages (from msrest>=0.5.0->azure-cognitiveservices-vision-customvision) (1.3.1)\n",
            "Requirement already satisfied: certifi>=2017.4.17 in /usr/local/lib/python3.7/dist-packages (from msrest>=0.5.0->azure-cognitiveservices-vision-customvision) (2022.9.24)\n",
            "Requirement already satisfied: requests~=2.16 in /usr/local/lib/python3.7/dist-packages (from msrest>=0.5.0->azure-cognitiveservices-vision-customvision) (2.23.0)\n",
            "Collecting azure-core>=1.24.0\n",
            "  Downloading azure_core-1.26.0-py3-none-any.whl (178 kB)\n",
            "\u001b[K     |████████████████████████████████| 178 kB 47.4 MB/s \n",
            "\u001b[?25hCollecting isodate>=0.6.0\n",
            "  Downloading isodate-0.6.1-py2.py3-none-any.whl (41 kB)\n",
            "\u001b[K     |████████████████████████████████| 41 kB 619 kB/s \n",
            "\u001b[?25hRequirement already satisfied: typing-extensions>=4.0.1 in /usr/local/lib/python3.7/dist-packages (from azure-core>=1.24.0->msrest>=0.5.0->azure-cognitiveservices-vision-customvision) (4.1.1)\n",
            "Requirement already satisfied: six>=1.11.0 in /usr/local/lib/python3.7/dist-packages (from azure-core>=1.24.0->msrest>=0.5.0->azure-cognitiveservices-vision-customvision) (1.15.0)\n",
            "Requirement already satisfied: chardet<4,>=3.0.2 in /usr/local/lib/python3.7/dist-packages (from requests~=2.16->msrest>=0.5.0->azure-cognitiveservices-vision-customvision) (3.0.4)\n",
            "Requirement already satisfied: idna<3,>=2.5 in /usr/local/lib/python3.7/dist-packages (from requests~=2.16->msrest>=0.5.0->azure-cognitiveservices-vision-customvision) (2.10)\n",
            "Requirement already satisfied: urllib3!=1.25.0,!=1.25.1,<1.26,>=1.21.1 in /usr/local/lib/python3.7/dist-packages (from requests~=2.16->msrest>=0.5.0->azure-cognitiveservices-vision-customvision) (1.24.3)\n",
            "Requirement already satisfied: oauthlib>=3.0.0 in /usr/local/lib/python3.7/dist-packages (from requests-oauthlib>=0.5.0->msrest>=0.5.0->azure-cognitiveservices-vision-customvision) (3.2.1)\n",
            "Installing collected packages: isodate, azure-core, msrest, azure-common, azure-cognitiveservices-vision-customvision\n",
            "Successfully installed azure-cognitiveservices-vision-customvision-3.1.0 azure-common-1.1.28 azure-core-1.26.0 isodate-0.6.1 msrest-0.7.1\n"
          ]
        }
      ],
      "source": [
        "!pip install azure-cognitiveservices-vision-customvision"
      ]
    },
    {
      "cell_type": "code",
      "source": [
        "from azure.cognitiveservices.vision.customvision.training import CustomVisionTrainingClient\n",
        "from azure.cognitiveservices.vision.customvision.training.models import ImageFileCreateEntry\n",
        "from azure.cognitiveservices.vision.customvision.training.models import ImageFileCreateBatch, ImageFileCreateEntry, Region\n",
        "from msrest.authentication import ApiKeyCredentials\n",
        "import os, time, uuid"
      ],
      "metadata": {
        "id": "yCX3YkSH3w8c"
      },
      "execution_count": 7,
      "outputs": []
    },
    {
      "cell_type": "code",
      "source": [
        "#Custom 비전에 미리 각 태그의 사진을 20개씩 추가해서 만든다\n",
        "#본 프로젝트는 짜장면, 짬뽕 그리고 탕수육을 각각 20개씩 넣어서 만들었다.\n",
        "\n",
        "ENDPOINT_Training = 'https://labuser30custom.cognitiveservices.azure.com/'\n",
        "ENDPOINT_Prediction = 'https://labuser30custom-prediction.cognitiveservices.azure.com/'\n",
        "\n",
        "training_key = '00141c3f580346e991b4a119ff293704'\n",
        "prediction_key = '68cf3de216b640e3b4afab78d0deb079'\n",
        "predicition_resource_id = '/subscriptions/7ae06d59-97e1-4a36-bbfe-efb081b9b03b/resourceGroups/RG30/providers/Microsoft.CognitiveServices/accounts/labuser30custom'"
      ],
      "metadata": {
        "id": "ICTAcCFP6pxD"
      },
      "execution_count": 8,
      "outputs": []
    },
    {
      "cell_type": "code",
      "source": [
        "credentials = ApiKeyCredentials(in_headers={\"Training-key\": training_key})  #중요한 키들이 텍스트로 하면 가로채기 때문에 키자체를 암호화할 수 있다.\n",
        "trainer = CustomVisionTrainingClient(ENDPOINT_Training, credentials)"
      ],
      "metadata": {
        "id": "VTVVFZKy_nBc"
      },
      "execution_count": 9,
      "outputs": []
    },
    {
      "cell_type": "code",
      "source": [
        "print(\"Creating project...\")\n",
        "project = trainer.create_project(\"Labuser30 Project\")"
      ],
      "metadata": {
        "colab": {
          "base_uri": "https://localhost:8080/"
        },
        "id": "fEnajNuVBkwj",
        "outputId": "fd1d906e-80f3-4f3d-c8f2-e0c549cfd9ca"
      },
      "execution_count": 10,
      "outputs": [
        {
          "output_type": "stream",
          "name": "stdout",
          "text": [
            "Creating project...\n"
          ]
        }
      ]
    },
    {
      "cell_type": "code",
      "source": [
        "#태그를 만들어준다\n",
        "\n",
        "Jajangmyeon_tag = trainer.create_tag(project.id, \"Jajangmyeon\")\n",
        "Champon_tag = trainer.create_tag(project.id, \"Champon\")\n",
        "Tangsuyug_tag = trainer.create_tag(project.id, \"Tangsuyug\")"
      ],
      "metadata": {
        "id": "adUoL8ClCGE4"
      },
      "execution_count": 11,
      "outputs": []
    },
    {
      "cell_type": "code",
      "source": [
        "import time"
      ],
      "metadata": {
        "id": "xJ08KO29CfXC"
      },
      "execution_count": 12,
      "outputs": []
    },
    {
      "cell_type": "code",
      "source": [
        "#사진은 서버에 다 넣었음\n",
        "\n",
        "print('Training....')\n",
        "iteration = trainer.train_project(project.id)     #프로젝트 트레이닝\n",
        "while(iteration.status != 'Completed'):\n",
        "  iteration = trainer.get_iteration(project.id, iteration.id)\n",
        "  print('Training status ' + iteration.status)\n",
        "\n",
        "  time.sleep(2)\n",
        "\n",
        "print('Done!')"
      ],
      "metadata": {
        "colab": {
          "base_uri": "https://localhost:8080/"
        },
        "id": "6MEB8L_wD4iJ",
        "outputId": "bd4b48e7-4fed-4b1f-c5d8-6a7cea5ba078"
      },
      "execution_count": 13,
      "outputs": [
        {
          "output_type": "stream",
          "name": "stdout",
          "text": [
            "Training....\n",
            "Training status Training\n",
            "Training status Training\n",
            "Training status Training\n",
            "Training status Training\n",
            "Training status Training\n",
            "Training status Training\n",
            "Training status Training\n",
            "Training status Training\n",
            "Training status Training\n",
            "Training status Training\n",
            "Training status Training\n",
            "Training status Training\n",
            "Training status Training\n",
            "Training status Training\n",
            "Training status Training\n",
            "Training status Training\n",
            "Training status Training\n",
            "Training status Training\n",
            "Training status Training\n",
            "Training status Training\n",
            "Training status Training\n",
            "Training status Training\n",
            "Training status Training\n",
            "Training status Training\n",
            "Training status Training\n",
            "Training status Training\n",
            "Training status Training\n",
            "Training status Training\n",
            "Training status Training\n",
            "Training status Training\n",
            "Training status Training\n",
            "Training status Training\n",
            "Training status Training\n",
            "Training status Training\n",
            "Training status Training\n",
            "Training status Training\n",
            "Training status Training\n",
            "Training status Training\n",
            "Training status Training\n",
            "Training status Training\n",
            "Training status Training\n",
            "Training status Training\n",
            "Training status Training\n",
            "Training status Training\n",
            "Training status Training\n",
            "Training status Training\n",
            "Training status Training\n",
            "Training status Training\n",
            "Training status Training\n",
            "Training status Training\n",
            "Training status Training\n",
            "Training status Training\n",
            "Training status Training\n",
            "Training status Training\n",
            "Training status Training\n",
            "Training status Training\n",
            "Training status Training\n",
            "Training status Training\n",
            "Training status Training\n",
            "Training status Training\n",
            "Training status Training\n",
            "Training status Training\n",
            "Training status Training\n",
            "Training status Training\n",
            "Training status Training\n",
            "Training status Training\n",
            "Training status Training\n",
            "Training status Training\n",
            "Training status Training\n",
            "Training status Training\n",
            "Training status Training\n",
            "Training status Training\n",
            "Training status Training\n",
            "Training status Training\n",
            "Training status Training\n",
            "Training status Training\n",
            "Training status Training\n",
            "Training status Training\n",
            "Training status Training\n",
            "Training status Training\n",
            "Training status Training\n",
            "Training status Training\n",
            "Training status Training\n",
            "Training status Training\n",
            "Training status Training\n",
            "Training status Training\n",
            "Training status Training\n",
            "Training status Training\n",
            "Training status Training\n",
            "Training status Training\n",
            "Training status Training\n",
            "Training status Training\n",
            "Training status Training\n",
            "Training status Training\n",
            "Training status Training\n",
            "Training status Training\n",
            "Training status Training\n",
            "Training status Training\n",
            "Training status Training\n",
            "Training status Training\n",
            "Training status Training\n",
            "Training status Training\n",
            "Training status Training\n",
            "Training status Training\n",
            "Training status Training\n",
            "Training status Training\n",
            "Training status Training\n",
            "Training status Training\n",
            "Training status Training\n",
            "Training status Training\n",
            "Training status Training\n",
            "Training status Training\n",
            "Training status Training\n",
            "Training status Training\n",
            "Training status Training\n",
            "Training status Training\n",
            "Training status Training\n",
            "Training status Training\n",
            "Training status Training\n",
            "Training status Training\n",
            "Training status Training\n",
            "Training status Training\n",
            "Training status Training\n",
            "Training status Training\n",
            "Training status Training\n",
            "Training status Training\n",
            "Training status Training\n",
            "Training status Training\n",
            "Training status Training\n",
            "Training status Training\n",
            "Training status Training\n",
            "Training status Training\n",
            "Training status Training\n",
            "Training status Training\n",
            "Training status Training\n",
            "Training status Training\n",
            "Training status Training\n",
            "Training status Training\n",
            "Training status Training\n",
            "Training status Training\n",
            "Training status Training\n",
            "Training status Training\n",
            "Training status Training\n",
            "Training status Training\n",
            "Training status Training\n",
            "Training status Training\n",
            "Training status Training\n",
            "Training status Training\n",
            "Training status Training\n",
            "Training status Training\n",
            "Training status Training\n",
            "Training status Training\n",
            "Training status Training\n",
            "Training status Training\n",
            "Training status Training\n",
            "Training status Training\n",
            "Training status Training\n",
            "Training status Training\n",
            "Training status Training\n",
            "Training status Training\n",
            "Training status Training\n",
            "Training status Training\n",
            "Training status Training\n",
            "Training status Training\n",
            "Training status Training\n",
            "Training status Training\n",
            "Training status Training\n",
            "Training status Training\n",
            "Training status Training\n",
            "Training status Training\n",
            "Training status Training\n",
            "Training status Training\n",
            "Training status Training\n",
            "Training status Training\n",
            "Training status Training\n",
            "Training status Training\n",
            "Training status Training\n",
            "Training status Training\n",
            "Training status Completed\n",
            "Done!\n"
          ]
        }
      ]
    },
    {
      "cell_type": "code",
      "source": [
        "from azure.cognitiveservices.vision.customvision.prediction import CustomVisionPredictionClient"
      ],
      "metadata": {
        "id": "9AGG9WH3G68L"
      },
      "execution_count": 19,
      "outputs": []
    },
    {
      "cell_type": "code",
      "source": [
        "prediction_credentials = ApiKeyCredentials(in_headers={\"Prediction-key\": prediction_key})\n",
        "predictor = CustomVisionPredictionClient(ENDPOINT_Prediction, prediction_credentials)"
      ],
      "metadata": {
        "id": "XZScmd5XdmIY"
      },
      "execution_count": 22,
      "outputs": []
    },
    {
      "cell_type": "code",
      "source": [
        "target_image_url = 'https://w.namu.la/s/d4c53737b61fec8cf0fa02206d85a5022fc5465593f2e0190648f7c5911acd836a5f7a1db0f19f0136ec1c178d782465a9455b31d178b79df5133fc6b493a41f8e6fe6815d3da4aafdd31ec6ce870697e8db18daef4fee7a1420b29aab35b3a2'\n",
        "result = predictor.classify_image_url(project.id, 'greatwall', target_image_url)"
      ],
      "metadata": {
        "id": "VBxb_6iWdw8a"
      },
      "execution_count": 23,
      "outputs": []
    },
    {
      "cell_type": "code",
      "source": [
        "for prediction in result.predictions:\n",
        "  print('\\t' + prediction.tag_name + \": {0:.2f}%\".format(prediction.probability*100))"
      ],
      "metadata": {
        "colab": {
          "base_uri": "https://localhost:8080/"
        },
        "id": "jYYAhP6phXXd",
        "outputId": "9bb4aab9-f1fd-46be-fd56-565c8e60b518"
      },
      "execution_count": 25,
      "outputs": [
        {
          "output_type": "stream",
          "name": "stdout",
          "text": [
            "\tJajangmyeon: 99.79%\n",
            "\tChampon: 0.40%\n",
            "\tTangsuyug: 0.06%\n"
          ]
        }
      ]
    }
  ]
}