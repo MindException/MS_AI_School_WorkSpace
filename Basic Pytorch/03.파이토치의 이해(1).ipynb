{
 "cells": [
  {
   "cell_type": "markdown",
   "id": "903b0a99",
   "metadata": {},
   "source": [
    "### 라이브러리"
   ]
  },
  {
   "cell_type": "code",
   "execution_count": 3,
   "id": "3ad85b53",
   "metadata": {},
   "outputs": [],
   "source": [
    "import numpy as np\n",
    "import torch\n",
    "from torch.utils.data.dataset import Dataset"
   ]
  },
  {
   "cell_type": "markdown",
   "id": "7bcd2429",
   "metadata": {},
   "source": [
    "### 데이터셋  과정\n",
    "\n",
    "![dataprocessing](./note_image/dataset.png)\n",
    "\n",
    "batch size는 메모리에서 올라가서 동작하는 것이기 때문에 환경(ram 용량)에 영향을 받는다."
   ]
  },
  {
   "cell_type": "code",
   "execution_count": 4,
   "id": "4e797acb",
   "metadata": {},
   "outputs": [],
   "source": [
    "class MyCustomDataset(Dataset):\n",
    "    def __init__(self, path, transforms=None):\n",
    "        # data path\n",
    "        self.all_data_path = \"./image/*.jpg\"\n",
    "        self.transforms = transforms\n",
    "    \n",
    "    def __getitem__(self, index):\n",
    "        pass\n",
    "    \n",
    "    def __len__(self):\n",
    "         return len(self.all_data_path)"
   ]
  },
  {
   "cell_type": "markdown",
   "id": "8d074db1",
   "metadata": {},
   "source": [
    "__init__() 함수는 csv 읽기, 변환 할당, 데이터 필터링 등과 같은 초기 논리가 발생하는 곳입니다.  \n",
    "\n",
    "__getitem__() 데이터와 레이블을 반환합니다. 이 함수는 다음과 같이 dataloader에서 호출됩니다.  \n",
    "단일 데이터 포인트(예: 텐서, numpy 배열 등)에 대한 특정  유형을 반환한다는 것입니다.  \n",
    "\n",
    "__len__() 보유한 보유한 샘플 수를 반환합니다"
   ]
  }
 ],
 "metadata": {
  "kernelspec": {
   "display_name": "Python 3 (ipykernel)",
   "language": "python",
   "name": "python3"
  },
  "language_info": {
   "codemirror_mode": {
    "name": "ipython",
    "version": 3
   },
   "file_extension": ".py",
   "mimetype": "text/x-python",
   "name": "python",
   "nbconvert_exporter": "python",
   "pygments_lexer": "ipython3",
   "version": "3.9.7"
  }
 },
 "nbformat": 4,
 "nbformat_minor": 5
}
