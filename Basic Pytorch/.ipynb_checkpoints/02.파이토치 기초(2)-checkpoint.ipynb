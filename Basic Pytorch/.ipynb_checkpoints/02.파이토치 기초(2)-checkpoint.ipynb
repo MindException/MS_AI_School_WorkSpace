{
 "cells": [
  {
   "cell_type": "markdown",
   "id": "77b2ba74",
   "metadata": {},
   "source": [
    "## 라이브러리"
   ]
  },
  {
   "cell_type": "code",
   "execution_count": 1,
   "id": "08ad4002",
   "metadata": {},
   "outputs": [],
   "source": [
    "import torch\n",
    "import numpy as np"
   ]
  },
  {
   "cell_type": "markdown",
   "id": "5aa81896",
   "metadata": {},
   "source": [
    "### 뷰(view)\n",
    "\n",
    "파이토치 텐서의 뷰(View)는 넘파이에서의 리쉐이프(Reshape)와 같은 역할을 합니다.  \n",
    "Reshape라는 이름에서 알 수 있듯이, 텐서의 크기(Shape)를 변경해주는 역할을 합니다."
   ]
  },
  {
   "cell_type": "markdown",
   "id": "779e11f9",
   "metadata": {},
   "source": [
    "임의로 3차원 테서를 생성한다."
   ]
  },
  {
   "cell_type": "code",
   "execution_count": 14,
   "id": "a1b46ae6",
   "metadata": {},
   "outputs": [
    {
     "name": "stdout",
     "output_type": "stream",
     "text": [
      "tensor([[[ 0.,  1.,  2.],\n",
      "         [ 3.,  4.,  5.]],\n",
      "\n",
      "        [[ 6.,  7.,  8.],\n",
      "         [ 9., 10., 11.]]])\n",
      "torch.Size([2, 2, 3])\n"
     ]
    }
   ],
   "source": [
    "t = np.array([[[0, 1, 2], [3, 4, 5]], [[6, 7, 8], [9, 10, 11]]])\n",
    "ft = torch.FloatTensor(t)\n",
    "\n",
    "print(ft)\n",
    "print(ft.shape)"
   ]
  },
  {
   "cell_type": "markdown",
   "id": "4599522c",
   "metadata": {},
   "source": [
    "3열 2행 2차원 인 것을 확인할 수 있다."
   ]
  },
  {
   "cell_type": "code",
   "execution_count": 39,
   "id": "979c2af3",
   "metadata": {},
   "outputs": [
    {
     "name": "stdout",
     "output_type": "stream",
     "text": [
      "tensor([[ 0.,  1.,  2.],\n",
      "        [ 3.,  4.,  5.],\n",
      "        [ 6.,  7.,  8.],\n",
      "        [ 9., 10., 11.]])\n",
      "torch.Size([4, 3])\n",
      "tensor([ 9., 10., 11.])\n"
     ]
    }
   ],
   "source": [
    "print(ft.view([-1, 3])) # ft라는 텐서를 (?, 3)의 크기로 변경\n",
    "print(ft.view([-1, 3]).shape)\n",
    "\n",
    "ft1 = ft.view([-1, 3])\n",
    "print(ft1[-1])"
   ]
  },
  {
   "cell_type": "markdown",
   "id": "ef6bbbbe",
   "metadata": {},
   "source": [
    "-1은 첫번째 차원은 사용자가 잘 모르겠으니 파이토치에 맡기겠다는 의미이고, 3은 두번째 차원의 길이는 3을 가지도록 하라는 의미입니다.  \n",
    "다시 말해 현재 3차원 텐서를 2차원 텐서로 변경하되 (?, 3)의 크기로 변경하라는 의미입니다.  \n",
    "결과적으로 (4, 3)의 크기를 가지는 텐서를 얻었습니다.\n",
    "\n",
    "내부적으로 크기 변환은 다음과 같이 이루어졌습니다. (2, 2, 3) -> (2 × 2, 3) -> (4, 3)"
   ]
  },
  {
   "cell_type": "code",
   "execution_count": 70,
   "id": "0749a526",
   "metadata": {},
   "outputs": [
    {
     "name": "stdout",
     "output_type": "stream",
     "text": [
      "tensor([[[ 0.,  1.,  2.]],\n",
      "\n",
      "        [[ 3.,  4.,  5.]],\n",
      "\n",
      "        [[ 6.,  7.,  8.]],\n",
      "\n",
      "        [[ 9., 10., 11.]]])\n",
      "torch.Size([4, 1, 3])\n"
     ]
    }
   ],
   "source": [
    "print(ft.view([-1, 1, 3]))\n",
    "print(ft.view([-1, 1, 3]).shape)"
   ]
  },
  {
   "cell_type": "markdown",
   "id": "d35eaf2b",
   "metadata": {},
   "source": [
    "그렇다면 (2 × 2 × 3) 텐서를 (? × 1 × 3) 텐서로 변경하라고 하면 ?는 몇 차원인가요?  \n",
    "위와같이 (2 × 2 × 3) = (? × 1 × 3) = 12를 만족해야 하므로 ?는 4가 됩니다\n",
    "\n",
    "제일 중요한 것은 원소 개수가 보존된다는 것이다.  "
   ]
  },
  {
   "cell_type": "markdown",
   "id": "57bfeb40",
   "metadata": {},
   "source": [
    "### 스퀴즈(Squeeze)\n",
    "\n",
    "스퀴즈는 차원이 1인 경우에는 해당 차원을 제거합니다.  \n",
    "실무에서 텐서가 4차원이 나오면 안 되기 때문에 3차원으로 줄 일 경우에 많이 사용한다"
   ]
  },
  {
   "cell_type": "markdown",
   "id": "26bfff9f",
   "metadata": {},
   "source": [
    "먼저 실습을 위해 임의로 (3 × 1)의 크기를 가지는 2차원 텐서를 만들겠습니다"
   ]
  },
  {
   "cell_type": "code",
   "execution_count": 71,
   "id": "64d24ca2",
   "metadata": {},
   "outputs": [
    {
     "name": "stdout",
     "output_type": "stream",
     "text": [
      "tensor([[0.],\n",
      "        [1.],\n",
      "        [2.]])\n",
      "torch.Size([3, 1])\n"
     ]
    }
   ],
   "source": [
    "ft = torch.FloatTensor([[0], [1], [2]])\n",
    "print(ft)\n",
    "print(ft.shape)"
   ]
  },
  {
   "cell_type": "code",
   "execution_count": 72,
   "id": "ca0b1640",
   "metadata": {},
   "outputs": [
    {
     "name": "stdout",
     "output_type": "stream",
     "text": [
      "tensor([0., 1., 2.])\n",
      "torch.Size([3])\n"
     ]
    }
   ],
   "source": [
    "print(ft.squeeze())\n",
    "print(ft.squeeze().shape)"
   ]
  },
  {
   "cell_type": "markdown",
   "id": "cba281f6",
   "metadata": {},
   "source": [
    "위의 결과는 1이었던 두번째 차원이 제거되면서 (3,)의 크기를 가지는 텐서로 변경되어 1차원 벡터가 된 것을 보여줍니다."
   ]
  },
  {
   "cell_type": "code",
   "execution_count": 87,
   "id": "bdbef87b",
   "metadata": {},
   "outputs": [
    {
     "name": "stdout",
     "output_type": "stream",
     "text": [
      "tensor([[[1., 1.]],\n",
      "\n",
      "        [[1., 1.]],\n",
      "\n",
      "        [[1., 1.]]]) \n",
      "\n",
      "tensor([[1., 1.],\n",
      "        [1., 1.],\n",
      "        [1., 1.]]) \n",
      "\n",
      "torch.Size([3, 2])\n"
     ]
    }
   ],
   "source": [
    "shape = (3,1,2)\n",
    "ones_tensor = torch.ones(shape)\n",
    "print(ones_tensor, \"\\n\")\n",
    "\n",
    "\n",
    "print(ones_tensor.squeeze(), \"\\n\")\n",
    "print(ones_tensor.squeeze().shape)"
   ]
  },
  {
   "cell_type": "markdown",
   "id": "854743fd",
   "metadata": {},
   "source": [
    "3차원에서도 2차원으로 내리는 모습을 볼 수 있다."
   ]
  },
  {
   "cell_type": "markdown",
   "id": "0c8c20e2",
   "metadata": {},
   "source": [
    "### 언스퀴즈(Unsqueeze)\n",
    "\n",
    "언스퀴즈는 스퀴즈와 정반대입니다. 특정 위치에 1인 차원을 추가할 수 있습니다"
   ]
  },
  {
   "cell_type": "code",
   "execution_count": 88,
   "id": "01d1612c",
   "metadata": {},
   "outputs": [
    {
     "name": "stdout",
     "output_type": "stream",
     "text": [
      "torch.Size([3])\n"
     ]
    }
   ],
   "source": [
    "ft = torch.Tensor([0, 1, 2])\n",
    "print(ft.shape)"
   ]
  },
  {
   "cell_type": "code",
   "execution_count": 89,
   "id": "a788ec85",
   "metadata": {},
   "outputs": [
    {
     "name": "stdout",
     "output_type": "stream",
     "text": [
      "tensor([[0., 1., 2.]])\n",
      "torch.Size([1, 3])\n"
     ]
    }
   ],
   "source": [
    "print(ft.unsqueeze(0)) # 인덱스가 0부터 시작하므로 0은 첫번째 차원을 의미한다.\n",
    "print(ft.unsqueeze(0).shape)"
   ]
  },
  {
   "cell_type": "code",
   "execution_count": 90,
   "id": "7c573a5d",
   "metadata": {
    "scrolled": true
   },
   "outputs": [
    {
     "name": "stdout",
     "output_type": "stream",
     "text": [
      "tensor([[0., 1., 2.]])\n",
      "torch.Size([1, 3])\n"
     ]
    }
   ],
   "source": [
    "print(ft.unsqueeze(0)) # 인덱스가 0부터 시작하므로 0은 첫번째 차원을 의미한다.\n",
    "print(ft.unsqueeze(0).shape)"
   ]
  },
  {
   "cell_type": "markdown",
   "id": "db494668",
   "metadata": {},
   "source": [
    "좀 더 쉽게 설명한다면 배열의 요소 위치에 차원을 추가한다고 보면 된다.  \n",
    "이미 그 위치에 차원이 존재한다면 뒤로 밀려난다."
   ]
  },
  {
   "cell_type": "code",
   "execution_count": 101,
   "id": "8d579c3b",
   "metadata": {},
   "outputs": [
    {
     "name": "stdout",
     "output_type": "stream",
     "text": [
      "torch.Size([3, 4, 2]) \n",
      "\n",
      "torch.Size([3, 1, 4, 2]) \n",
      "\n",
      "torch.Size([3, 4, 2, 1])\n"
     ]
    }
   ],
   "source": [
    "shape = (3,4,2)\n",
    "o= torch.ones(shape)\n",
    "print(o.shape, \"\\n\")\n",
    "\n",
    "print(o.unsqueeze(1).shape, \"\\n\")\n",
    "print(o.unsqueeze(-1).shape)"
   ]
  }
 ],
 "metadata": {
  "kernelspec": {
   "display_name": "Python 3 (ipykernel)",
   "language": "python",
   "name": "python3"
  },
  "language_info": {
   "codemirror_mode": {
    "name": "ipython",
    "version": 3
   },
   "file_extension": ".py",
   "mimetype": "text/x-python",
   "name": "python",
   "nbconvert_exporter": "python",
   "pygments_lexer": "ipython3",
   "version": "3.9.7"
  }
 },
 "nbformat": 4,
 "nbformat_minor": 5
}
