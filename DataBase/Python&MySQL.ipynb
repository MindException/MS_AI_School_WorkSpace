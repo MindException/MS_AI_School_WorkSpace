{
 "cells": [
  {
   "cell_type": "markdown",
   "id": "21151770",
   "metadata": {},
   "source": [
    "# 파이썬 데이터베이스 연동\n",
    "\n",
    "pymysql을 이용하여 "
   ]
  },
  {
   "cell_type": "markdown",
   "id": "8241848c",
   "metadata": {},
   "source": [
    "## 데이터 베이스 접속\n",
    "\n",
    "데이터베이스 샘플 자료는 아래 공식 주소에서 다운 받았다.  \n",
    "https://www.mysqltutorial.org/mysql-sample-database.aspx"
   ]
  },
  {
   "cell_type": "code",
   "execution_count": 22,
   "id": "e0aafb89",
   "metadata": {},
   "outputs": [
    {
     "name": "stdout",
     "output_type": "stream",
     "text": [
      "Requirement already satisfied: pymysql in /Library/Frameworks/Python.framework/Versions/3.10/lib/python3.10/site-packages (1.0.2)\r\n"
     ]
    }
   ],
   "source": [
    "!pip install pymysql"
   ]
  },
  {
   "cell_type": "code",
   "execution_count": 20,
   "id": "707d9b68",
   "metadata": {},
   "outputs": [],
   "source": [
    "import pymysql"
   ]
  },
  {
   "cell_type": "code",
   "execution_count": 21,
   "id": "a378bee5",
   "metadata": {},
   "outputs": [],
   "source": [
    "#데이터베이스 연결 전 데이터 기본 세팅\n",
    "host_name = 'localhost'\n",
    "port = 3306\n",
    "user_name = 'root'\n",
    "user_password = 'Hmmteresting@@'\n",
    "database_name = 'classicmodels'"
   ]
  },
  {
   "cell_type": "markdown",
   "id": "81c18d2c",
   "metadata": {},
   "source": [
    "데이터베이스와 직접 연결하기 위해 필요한 정보이다.\n",
    "<ul>\n",
    "    <li>host_name: 데이터베이스의 주소로 ip주소 혹은 url을 사용하여서 정의한다.</li>\n",
    "    <li>port: 접속하는 포트번호</li>\n",
    "    <li>user_name: 데이터베이스에 등록된 사용자명</li>\n",
    "    <li>user_password: 사용자의 비밀번호 입력</li>\n",
    "    <li>database_name: 접속하고 싶은 스키마명</li>\n",
    "</ul>"
   ]
  },
  {
   "cell_type": "code",
   "execution_count": 23,
   "id": "ab3f70a3",
   "metadata": {},
   "outputs": [],
   "source": [
    "test_db = pymysql.connect( \n",
    "    host = host_name,\n",
    "    port = port,\n",
    "    user = user_name,\n",
    "    passwd = user_password,\n",
    "    db = database_name,\n",
    "    charset = 'utf8'\n",
    ")"
   ]
  },
  {
   "cell_type": "markdown",
   "id": "d0bcbd02",
   "metadata": {},
   "source": [
    "##  판다스를 사용하여 데이터 조회\n",
    "\n",
    "일반적으로는 cursor를 좀 더 많이 사용한다"
   ]
  },
  {
   "cell_type": "code",
   "execution_count": 24,
   "id": "fa2606e2",
   "metadata": {},
   "outputs": [],
   "source": [
    "import pandas as pd"
   ]
  },
  {
   "cell_type": "code",
   "execution_count": 26,
   "id": "67e79f4a",
   "metadata": {},
   "outputs": [],
   "source": [
    "SQL = 'SELECT * FROM employees'\n",
    "df = pd.read_sql(SQL, test_db)"
   ]
  },
  {
   "cell_type": "code",
   "execution_count": 27,
   "id": "c0fa2148",
   "metadata": {},
   "outputs": [
    {
     "data": {
      "text/html": [
       "<div>\n",
       "<style scoped>\n",
       "    .dataframe tbody tr th:only-of-type {\n",
       "        vertical-align: middle;\n",
       "    }\n",
       "\n",
       "    .dataframe tbody tr th {\n",
       "        vertical-align: top;\n",
       "    }\n",
       "\n",
       "    .dataframe thead th {\n",
       "        text-align: right;\n",
       "    }\n",
       "</style>\n",
       "<table border=\"1\" class=\"dataframe\">\n",
       "  <thead>\n",
       "    <tr style=\"text-align: right;\">\n",
       "      <th></th>\n",
       "      <th>employeeNumber</th>\n",
       "      <th>lastName</th>\n",
       "      <th>firstName</th>\n",
       "      <th>extension</th>\n",
       "      <th>email</th>\n",
       "      <th>officeCode</th>\n",
       "      <th>reportsTo</th>\n",
       "      <th>jobTitle</th>\n",
       "    </tr>\n",
       "  </thead>\n",
       "  <tbody>\n",
       "    <tr>\n",
       "      <th>0</th>\n",
       "      <td>1002</td>\n",
       "      <td>Murphy</td>\n",
       "      <td>Diane</td>\n",
       "      <td>x5800</td>\n",
       "      <td>dmurphy@classicmodelcars.com</td>\n",
       "      <td>1</td>\n",
       "      <td>NaN</td>\n",
       "      <td>President</td>\n",
       "    </tr>\n",
       "    <tr>\n",
       "      <th>1</th>\n",
       "      <td>1056</td>\n",
       "      <td>Patterson</td>\n",
       "      <td>Mary</td>\n",
       "      <td>x4611</td>\n",
       "      <td>mpatterso@classicmodelcars.com</td>\n",
       "      <td>1</td>\n",
       "      <td>1002.0</td>\n",
       "      <td>VP Sales</td>\n",
       "    </tr>\n",
       "    <tr>\n",
       "      <th>2</th>\n",
       "      <td>1076</td>\n",
       "      <td>Firrelli</td>\n",
       "      <td>Jeff</td>\n",
       "      <td>x9273</td>\n",
       "      <td>jfirrelli@classicmodelcars.com</td>\n",
       "      <td>1</td>\n",
       "      <td>1002.0</td>\n",
       "      <td>VP Marketing</td>\n",
       "    </tr>\n",
       "    <tr>\n",
       "      <th>3</th>\n",
       "      <td>1088</td>\n",
       "      <td>Patterson</td>\n",
       "      <td>William</td>\n",
       "      <td>x4871</td>\n",
       "      <td>wpatterson@classicmodelcars.com</td>\n",
       "      <td>6</td>\n",
       "      <td>1056.0</td>\n",
       "      <td>Sales Manager (APAC)</td>\n",
       "    </tr>\n",
       "    <tr>\n",
       "      <th>4</th>\n",
       "      <td>1102</td>\n",
       "      <td>Bondur</td>\n",
       "      <td>Gerard</td>\n",
       "      <td>x5408</td>\n",
       "      <td>gbondur@classicmodelcars.com</td>\n",
       "      <td>4</td>\n",
       "      <td>1056.0</td>\n",
       "      <td>Sale Manager (EMEA)</td>\n",
       "    </tr>\n",
       "    <tr>\n",
       "      <th>5</th>\n",
       "      <td>1143</td>\n",
       "      <td>Bow</td>\n",
       "      <td>Anthony</td>\n",
       "      <td>x5428</td>\n",
       "      <td>abow@classicmodelcars.com</td>\n",
       "      <td>1</td>\n",
       "      <td>1056.0</td>\n",
       "      <td>Sales Manager (NA)</td>\n",
       "    </tr>\n",
       "    <tr>\n",
       "      <th>6</th>\n",
       "      <td>1165</td>\n",
       "      <td>Jennings</td>\n",
       "      <td>Leslie</td>\n",
       "      <td>x3291</td>\n",
       "      <td>ljennings@classicmodelcars.com</td>\n",
       "      <td>1</td>\n",
       "      <td>1143.0</td>\n",
       "      <td>Sales Rep</td>\n",
       "    </tr>\n",
       "    <tr>\n",
       "      <th>7</th>\n",
       "      <td>1166</td>\n",
       "      <td>Thompson</td>\n",
       "      <td>Leslie</td>\n",
       "      <td>x4065</td>\n",
       "      <td>lthompson@classicmodelcars.com</td>\n",
       "      <td>1</td>\n",
       "      <td>1143.0</td>\n",
       "      <td>Sales Rep</td>\n",
       "    </tr>\n",
       "    <tr>\n",
       "      <th>8</th>\n",
       "      <td>1188</td>\n",
       "      <td>Firrelli</td>\n",
       "      <td>Julie</td>\n",
       "      <td>x2173</td>\n",
       "      <td>jfirrelli@classicmodelcars.com</td>\n",
       "      <td>2</td>\n",
       "      <td>1143.0</td>\n",
       "      <td>Sales Rep</td>\n",
       "    </tr>\n",
       "    <tr>\n",
       "      <th>9</th>\n",
       "      <td>1216</td>\n",
       "      <td>Patterson</td>\n",
       "      <td>Steve</td>\n",
       "      <td>x4334</td>\n",
       "      <td>spatterson@classicmodelcars.com</td>\n",
       "      <td>2</td>\n",
       "      <td>1143.0</td>\n",
       "      <td>Sales Rep</td>\n",
       "    </tr>\n",
       "    <tr>\n",
       "      <th>10</th>\n",
       "      <td>1286</td>\n",
       "      <td>Tseng</td>\n",
       "      <td>Foon Yue</td>\n",
       "      <td>x2248</td>\n",
       "      <td>ftseng@classicmodelcars.com</td>\n",
       "      <td>3</td>\n",
       "      <td>1143.0</td>\n",
       "      <td>Sales Rep</td>\n",
       "    </tr>\n",
       "    <tr>\n",
       "      <th>11</th>\n",
       "      <td>1323</td>\n",
       "      <td>Vanauf</td>\n",
       "      <td>George</td>\n",
       "      <td>x4102</td>\n",
       "      <td>gvanauf@classicmodelcars.com</td>\n",
       "      <td>3</td>\n",
       "      <td>1143.0</td>\n",
       "      <td>Sales Rep</td>\n",
       "    </tr>\n",
       "    <tr>\n",
       "      <th>12</th>\n",
       "      <td>1337</td>\n",
       "      <td>Bondur</td>\n",
       "      <td>Loui</td>\n",
       "      <td>x6493</td>\n",
       "      <td>lbondur@classicmodelcars.com</td>\n",
       "      <td>4</td>\n",
       "      <td>1102.0</td>\n",
       "      <td>Sales Rep</td>\n",
       "    </tr>\n",
       "    <tr>\n",
       "      <th>13</th>\n",
       "      <td>1370</td>\n",
       "      <td>Hernandez</td>\n",
       "      <td>Gerard</td>\n",
       "      <td>x2028</td>\n",
       "      <td>ghernande@classicmodelcars.com</td>\n",
       "      <td>4</td>\n",
       "      <td>1102.0</td>\n",
       "      <td>Sales Rep</td>\n",
       "    </tr>\n",
       "    <tr>\n",
       "      <th>14</th>\n",
       "      <td>1401</td>\n",
       "      <td>Castillo</td>\n",
       "      <td>Pamela</td>\n",
       "      <td>x2759</td>\n",
       "      <td>pcastillo@classicmodelcars.com</td>\n",
       "      <td>4</td>\n",
       "      <td>1102.0</td>\n",
       "      <td>Sales Rep</td>\n",
       "    </tr>\n",
       "    <tr>\n",
       "      <th>15</th>\n",
       "      <td>1501</td>\n",
       "      <td>Bott</td>\n",
       "      <td>Larry</td>\n",
       "      <td>x2311</td>\n",
       "      <td>lbott@classicmodelcars.com</td>\n",
       "      <td>7</td>\n",
       "      <td>1102.0</td>\n",
       "      <td>Sales Rep</td>\n",
       "    </tr>\n",
       "    <tr>\n",
       "      <th>16</th>\n",
       "      <td>1504</td>\n",
       "      <td>Jones</td>\n",
       "      <td>Barry</td>\n",
       "      <td>x102</td>\n",
       "      <td>bjones@classicmodelcars.com</td>\n",
       "      <td>7</td>\n",
       "      <td>1102.0</td>\n",
       "      <td>Sales Rep</td>\n",
       "    </tr>\n",
       "    <tr>\n",
       "      <th>17</th>\n",
       "      <td>1611</td>\n",
       "      <td>Fixter</td>\n",
       "      <td>Andy</td>\n",
       "      <td>x101</td>\n",
       "      <td>afixter@classicmodelcars.com</td>\n",
       "      <td>6</td>\n",
       "      <td>1088.0</td>\n",
       "      <td>Sales Rep</td>\n",
       "    </tr>\n",
       "    <tr>\n",
       "      <th>18</th>\n",
       "      <td>1612</td>\n",
       "      <td>Marsh</td>\n",
       "      <td>Peter</td>\n",
       "      <td>x102</td>\n",
       "      <td>pmarsh@classicmodelcars.com</td>\n",
       "      <td>6</td>\n",
       "      <td>1088.0</td>\n",
       "      <td>Sales Rep</td>\n",
       "    </tr>\n",
       "    <tr>\n",
       "      <th>19</th>\n",
       "      <td>1619</td>\n",
       "      <td>King</td>\n",
       "      <td>Tom</td>\n",
       "      <td>x103</td>\n",
       "      <td>tking@classicmodelcars.com</td>\n",
       "      <td>6</td>\n",
       "      <td>1088.0</td>\n",
       "      <td>Sales Rep</td>\n",
       "    </tr>\n",
       "    <tr>\n",
       "      <th>20</th>\n",
       "      <td>1621</td>\n",
       "      <td>Nishi</td>\n",
       "      <td>Mami</td>\n",
       "      <td>x101</td>\n",
       "      <td>mnishi@classicmodelcars.com</td>\n",
       "      <td>5</td>\n",
       "      <td>1056.0</td>\n",
       "      <td>Sales Rep</td>\n",
       "    </tr>\n",
       "    <tr>\n",
       "      <th>21</th>\n",
       "      <td>1625</td>\n",
       "      <td>Kato</td>\n",
       "      <td>Yoshimi</td>\n",
       "      <td>x102</td>\n",
       "      <td>ykato@classicmodelcars.com</td>\n",
       "      <td>5</td>\n",
       "      <td>1621.0</td>\n",
       "      <td>Sales Rep</td>\n",
       "    </tr>\n",
       "    <tr>\n",
       "      <th>22</th>\n",
       "      <td>1702</td>\n",
       "      <td>Gerard</td>\n",
       "      <td>Martin</td>\n",
       "      <td>x2312</td>\n",
       "      <td>mgerard@classicmodelcars.com</td>\n",
       "      <td>4</td>\n",
       "      <td>1102.0</td>\n",
       "      <td>Sales Rep</td>\n",
       "    </tr>\n",
       "  </tbody>\n",
       "</table>\n",
       "</div>"
      ],
      "text/plain": [
       "    employeeNumber   lastName firstName extension  \\\n",
       "0             1002     Murphy     Diane     x5800   \n",
       "1             1056  Patterson      Mary     x4611   \n",
       "2             1076   Firrelli      Jeff     x9273   \n",
       "3             1088  Patterson   William     x4871   \n",
       "4             1102     Bondur    Gerard     x5408   \n",
       "5             1143        Bow   Anthony     x5428   \n",
       "6             1165   Jennings    Leslie     x3291   \n",
       "7             1166   Thompson    Leslie     x4065   \n",
       "8             1188   Firrelli     Julie     x2173   \n",
       "9             1216  Patterson     Steve     x4334   \n",
       "10            1286      Tseng  Foon Yue     x2248   \n",
       "11            1323     Vanauf    George     x4102   \n",
       "12            1337     Bondur      Loui     x6493   \n",
       "13            1370  Hernandez    Gerard     x2028   \n",
       "14            1401   Castillo    Pamela     x2759   \n",
       "15            1501       Bott     Larry     x2311   \n",
       "16            1504      Jones     Barry      x102   \n",
       "17            1611     Fixter      Andy      x101   \n",
       "18            1612      Marsh     Peter      x102   \n",
       "19            1619       King       Tom      x103   \n",
       "20            1621      Nishi      Mami      x101   \n",
       "21            1625       Kato   Yoshimi      x102   \n",
       "22            1702     Gerard    Martin     x2312   \n",
       "\n",
       "                              email officeCode  reportsTo  \\\n",
       "0      dmurphy@classicmodelcars.com          1        NaN   \n",
       "1    mpatterso@classicmodelcars.com          1     1002.0   \n",
       "2    jfirrelli@classicmodelcars.com          1     1002.0   \n",
       "3   wpatterson@classicmodelcars.com          6     1056.0   \n",
       "4      gbondur@classicmodelcars.com          4     1056.0   \n",
       "5         abow@classicmodelcars.com          1     1056.0   \n",
       "6    ljennings@classicmodelcars.com          1     1143.0   \n",
       "7    lthompson@classicmodelcars.com          1     1143.0   \n",
       "8    jfirrelli@classicmodelcars.com          2     1143.0   \n",
       "9   spatterson@classicmodelcars.com          2     1143.0   \n",
       "10      ftseng@classicmodelcars.com          3     1143.0   \n",
       "11     gvanauf@classicmodelcars.com          3     1143.0   \n",
       "12     lbondur@classicmodelcars.com          4     1102.0   \n",
       "13   ghernande@classicmodelcars.com          4     1102.0   \n",
       "14   pcastillo@classicmodelcars.com          4     1102.0   \n",
       "15       lbott@classicmodelcars.com          7     1102.0   \n",
       "16      bjones@classicmodelcars.com          7     1102.0   \n",
       "17     afixter@classicmodelcars.com          6     1088.0   \n",
       "18      pmarsh@classicmodelcars.com          6     1088.0   \n",
       "19       tking@classicmodelcars.com          6     1088.0   \n",
       "20      mnishi@classicmodelcars.com          5     1056.0   \n",
       "21       ykato@classicmodelcars.com          5     1621.0   \n",
       "22     mgerard@classicmodelcars.com          4     1102.0   \n",
       "\n",
       "                jobTitle  \n",
       "0              President  \n",
       "1               VP Sales  \n",
       "2           VP Marketing  \n",
       "3   Sales Manager (APAC)  \n",
       "4    Sale Manager (EMEA)  \n",
       "5     Sales Manager (NA)  \n",
       "6              Sales Rep  \n",
       "7              Sales Rep  \n",
       "8              Sales Rep  \n",
       "9              Sales Rep  \n",
       "10             Sales Rep  \n",
       "11             Sales Rep  \n",
       "12             Sales Rep  \n",
       "13             Sales Rep  \n",
       "14             Sales Rep  \n",
       "15             Sales Rep  \n",
       "16             Sales Rep  \n",
       "17             Sales Rep  \n",
       "18             Sales Rep  \n",
       "19             Sales Rep  \n",
       "20             Sales Rep  \n",
       "21             Sales Rep  \n",
       "22             Sales Rep  "
      ]
     },
     "execution_count": 27,
     "metadata": {},
     "output_type": "execute_result"
    }
   ],
   "source": [
    "df"
   ]
  },
  {
   "cell_type": "markdown",
   "id": "0d1feba2",
   "metadata": {},
   "source": [
    "## 커서를 사용하여 데이터 조회"
   ]
  },
  {
   "cell_type": "code",
   "execution_count": 30,
   "id": "efb25cf4",
   "metadata": {},
   "outputs": [],
   "source": [
    "# 커서 설정\n",
    "test_cursor = test_db.cursor(pymysql.cursors.DictCursor)"
   ]
  },
  {
   "cell_type": "markdown",
   "id": "2497f4b3",
   "metadata": {},
   "source": [
    "커서 반환 시 2가지 방법이 있다.\n",
    "<ul>\n",
    "    <li>DictCursor: Python에서 주로 사용하는 pandas에서 사용하기 쉽게 딕션어리 형태로 결과를 반환 받는다.</li>\n",
    "    <li>cursor: 일반적으로 tuple형태로 리턴된다.</li>\n",
    "</ul>"
   ]
  },
  {
   "cell_type": "code",
   "execution_count": 39,
   "id": "5ba98cdd",
   "metadata": {},
   "outputs": [
    {
     "data": {
      "text/plain": [
       "23"
      ]
     },
     "execution_count": 39,
     "metadata": {},
     "output_type": "execute_result"
    }
   ],
   "source": [
    "#.fetchall()\n",
    "SQL = 'SELECT * FROM employees'\n",
    "test_cursor.execute(SQL)         #execute를 사용하여서 sql문을 실행한다."
   ]
  },
  {
   "cell_type": "code",
   "execution_count": 40,
   "id": "82060881",
   "metadata": {},
   "outputs": [
    {
     "name": "stdout",
     "output_type": "stream",
     "text": [
      "[{'employeeNumber': 1002, 'lastName': 'Murphy', 'firstName': 'Diane', 'extension': 'x5800', 'email': 'dmurphy@classicmodelcars.com', 'officeCode': '1', 'reportsTo': None, 'jobTitle': 'President'}, {'employeeNumber': 1056, 'lastName': 'Patterson', 'firstName': 'Mary', 'extension': 'x4611', 'email': 'mpatterso@classicmodelcars.com', 'officeCode': '1', 'reportsTo': 1002, 'jobTitle': 'VP Sales'}, {'employeeNumber': 1076, 'lastName': 'Firrelli', 'firstName': 'Jeff', 'extension': 'x9273', 'email': 'jfirrelli@classicmodelcars.com', 'officeCode': '1', 'reportsTo': 1002, 'jobTitle': 'VP Marketing'}, {'employeeNumber': 1088, 'lastName': 'Patterson', 'firstName': 'William', 'extension': 'x4871', 'email': 'wpatterson@classicmodelcars.com', 'officeCode': '6', 'reportsTo': 1056, 'jobTitle': 'Sales Manager (APAC)'}, {'employeeNumber': 1102, 'lastName': 'Bondur', 'firstName': 'Gerard', 'extension': 'x5408', 'email': 'gbondur@classicmodelcars.com', 'officeCode': '4', 'reportsTo': 1056, 'jobTitle': 'Sale Manager (EMEA)'}, {'employeeNumber': 1143, 'lastName': 'Bow', 'firstName': 'Anthony', 'extension': 'x5428', 'email': 'abow@classicmodelcars.com', 'officeCode': '1', 'reportsTo': 1056, 'jobTitle': 'Sales Manager (NA)'}, {'employeeNumber': 1165, 'lastName': 'Jennings', 'firstName': 'Leslie', 'extension': 'x3291', 'email': 'ljennings@classicmodelcars.com', 'officeCode': '1', 'reportsTo': 1143, 'jobTitle': 'Sales Rep'}, {'employeeNumber': 1166, 'lastName': 'Thompson', 'firstName': 'Leslie', 'extension': 'x4065', 'email': 'lthompson@classicmodelcars.com', 'officeCode': '1', 'reportsTo': 1143, 'jobTitle': 'Sales Rep'}, {'employeeNumber': 1188, 'lastName': 'Firrelli', 'firstName': 'Julie', 'extension': 'x2173', 'email': 'jfirrelli@classicmodelcars.com', 'officeCode': '2', 'reportsTo': 1143, 'jobTitle': 'Sales Rep'}, {'employeeNumber': 1216, 'lastName': 'Patterson', 'firstName': 'Steve', 'extension': 'x4334', 'email': 'spatterson@classicmodelcars.com', 'officeCode': '2', 'reportsTo': 1143, 'jobTitle': 'Sales Rep'}, {'employeeNumber': 1286, 'lastName': 'Tseng', 'firstName': 'Foon Yue', 'extension': 'x2248', 'email': 'ftseng@classicmodelcars.com', 'officeCode': '3', 'reportsTo': 1143, 'jobTitle': 'Sales Rep'}, {'employeeNumber': 1323, 'lastName': 'Vanauf', 'firstName': 'George', 'extension': 'x4102', 'email': 'gvanauf@classicmodelcars.com', 'officeCode': '3', 'reportsTo': 1143, 'jobTitle': 'Sales Rep'}, {'employeeNumber': 1337, 'lastName': 'Bondur', 'firstName': 'Loui', 'extension': 'x6493', 'email': 'lbondur@classicmodelcars.com', 'officeCode': '4', 'reportsTo': 1102, 'jobTitle': 'Sales Rep'}, {'employeeNumber': 1370, 'lastName': 'Hernandez', 'firstName': 'Gerard', 'extension': 'x2028', 'email': 'ghernande@classicmodelcars.com', 'officeCode': '4', 'reportsTo': 1102, 'jobTitle': 'Sales Rep'}, {'employeeNumber': 1401, 'lastName': 'Castillo', 'firstName': 'Pamela', 'extension': 'x2759', 'email': 'pcastillo@classicmodelcars.com', 'officeCode': '4', 'reportsTo': 1102, 'jobTitle': 'Sales Rep'}, {'employeeNumber': 1501, 'lastName': 'Bott', 'firstName': 'Larry', 'extension': 'x2311', 'email': 'lbott@classicmodelcars.com', 'officeCode': '7', 'reportsTo': 1102, 'jobTitle': 'Sales Rep'}, {'employeeNumber': 1504, 'lastName': 'Jones', 'firstName': 'Barry', 'extension': 'x102', 'email': 'bjones@classicmodelcars.com', 'officeCode': '7', 'reportsTo': 1102, 'jobTitle': 'Sales Rep'}, {'employeeNumber': 1611, 'lastName': 'Fixter', 'firstName': 'Andy', 'extension': 'x101', 'email': 'afixter@classicmodelcars.com', 'officeCode': '6', 'reportsTo': 1088, 'jobTitle': 'Sales Rep'}, {'employeeNumber': 1612, 'lastName': 'Marsh', 'firstName': 'Peter', 'extension': 'x102', 'email': 'pmarsh@classicmodelcars.com', 'officeCode': '6', 'reportsTo': 1088, 'jobTitle': 'Sales Rep'}, {'employeeNumber': 1619, 'lastName': 'King', 'firstName': 'Tom', 'extension': 'x103', 'email': 'tking@classicmodelcars.com', 'officeCode': '6', 'reportsTo': 1088, 'jobTitle': 'Sales Rep'}, {'employeeNumber': 1621, 'lastName': 'Nishi', 'firstName': 'Mami', 'extension': 'x101', 'email': 'mnishi@classicmodelcars.com', 'officeCode': '5', 'reportsTo': 1056, 'jobTitle': 'Sales Rep'}, {'employeeNumber': 1625, 'lastName': 'Kato', 'firstName': 'Yoshimi', 'extension': 'x102', 'email': 'ykato@classicmodelcars.com', 'officeCode': '5', 'reportsTo': 1621, 'jobTitle': 'Sales Rep'}, {'employeeNumber': 1702, 'lastName': 'Gerard', 'firstName': 'Martin', 'extension': 'x2312', 'email': 'mgerard@classicmodelcars.com', 'officeCode': '4', 'reportsTo': 1102, 'jobTitle': 'Sales Rep'}]\n",
      "타입:  <class 'list'>\n"
     ]
    }
   ],
   "source": [
    "data = test_cursor.fetchall()\n",
    "print(data)\n",
    "print('타입: ', type(data))"
   ]
  },
  {
   "cell_type": "markdown",
   "id": "a9dd2251",
   "metadata": {},
   "source": [
    "한 행이 딕션어리 형태로 리스트로 작성되어 있는 것을 확인할 수 있다."
   ]
  },
  {
   "cell_type": "code",
   "execution_count": 41,
   "id": "c1618ec3",
   "metadata": {},
   "outputs": [
    {
     "data": {
      "text/plain": [
       "23"
      ]
     },
     "execution_count": 41,
     "metadata": {},
     "output_type": "execute_result"
    }
   ],
   "source": [
    "#fetchone()\n",
    "SQL = 'SELECT * FROM employees'\n",
    "test_cursor.execute(SQL)         #execute를 사용하여서 sql문을 실행한다."
   ]
  },
  {
   "cell_type": "code",
   "execution_count": 43,
   "id": "8e517c2b",
   "metadata": {},
   "outputs": [
    {
     "name": "stdout",
     "output_type": "stream",
     "text": [
      "첫 번째 출력:  {'employeeNumber': 1002, 'lastName': 'Murphy', 'firstName': 'Diane', 'extension': 'x5800', 'email': 'dmurphy@classicmodelcars.com', 'officeCode': '1', 'reportsTo': None, 'jobTitle': 'President'}\n",
      "두 번째 출력:  {'employeeNumber': 1056, 'lastName': 'Patterson', 'firstName': 'Mary', 'extension': 'x4611', 'email': 'mpatterso@classicmodelcars.com', 'officeCode': '1', 'reportsTo': 1002, 'jobTitle': 'VP Sales'}\n"
     ]
    }
   ],
   "source": [
    "data = test_cursor.fetchone()\n",
    "print(\"첫 번째 출력: \", data)\n",
    "data = test_cursor.fetchone()\n",
    "print(\"두 번째 출력: \", data)"
   ]
  },
  {
   "cell_type": "markdown",
   "id": "712a3495",
   "metadata": {},
   "source": [
    "총 3가지의 반환 방법이 있다는 것을 위를 통해 알 수 있다.\n",
    "\n",
    "<ol>\n",
    "    <li>fetchall: 데이터에서 조회한 정보를 한 번에 반환하여준다.</li>\n",
    "    <li>fetchone: 조회한 데이터들을 한 행씩 따로따로 반환하여 준다.</li>\n",
    "    <li>fetchmany(n): 원하는 행 개수만큼 묶어서 반환하여 준다.</li>\n",
    "</ol>"
   ]
  },
  {
   "cell_type": "markdown",
   "id": "740eb530",
   "metadata": {},
   "source": [
    "## 연결 종료"
   ]
  },
  {
   "cell_type": "code",
   "execution_count": 44,
   "id": "42163deb",
   "metadata": {},
   "outputs": [],
   "source": [
    "#DB 연결 종료\n",
    "test_db.close()"
   ]
  },
  {
   "cell_type": "markdown",
   "id": "24feaba7",
   "metadata": {},
   "source": [
    "조회가 아닌 삽입,갱신,삭제를 하였을 경우에는 Connection 객체를 commit 해주어야 한다.\n",
    "하지 않으면 Rollback 현상이 일어나서 반영이 되지 않는다.\n",
    "\n",
    "마지막으로 공통적으로 close를 통하여 데이터베이스와의 연결을 끊어준다."
   ]
  }
 ],
 "metadata": {
  "kernelspec": {
   "display_name": "Python 3 (ipykernel)",
   "language": "python",
   "name": "python3"
  },
  "language_info": {
   "codemirror_mode": {
    "name": "ipython",
    "version": 3
   },
   "file_extension": ".py",
   "mimetype": "text/x-python",
   "name": "python",
   "nbconvert_exporter": "python",
   "pygments_lexer": "ipython3",
   "version": "3.9.7"
  }
 },
 "nbformat": 4,
 "nbformat_minor": 5
}
