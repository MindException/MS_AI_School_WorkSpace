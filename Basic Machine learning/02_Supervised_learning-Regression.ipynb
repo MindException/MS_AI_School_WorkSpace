{
 "cells": [
  {
   "cell_type": "markdown",
   "metadata": {
    "id": "6mXBTEUu_TJ7"
   },
   "source": [
    "### Boston 데이터 세팅"
   ]
  },
  {
   "cell_type": "code",
   "execution_count": 2,
   "metadata": {
    "id": "B2j5VHA17csb"
   },
   "outputs": [],
   "source": [
    "import numpy as np\n",
    "import pandas as pd\n",
    "import sklearn\n",
    "import matplotlib.pyplot as plt\n",
    "\n",
    "#경고 없애기\n",
    "import warnings\n",
    "warnings.filterwarnings('ignore')"
   ]
  },
  {
   "cell_type": "code",
   "execution_count": 3,
   "metadata": {
    "id": "Q_F8_41k9B-I"
   },
   "outputs": [],
   "source": [
    "#보스턴 집값 불러오기\n",
    "from sklearn.datasets import load_boston\n",
    "boston = load_boston()"
   ]
  },
  {
   "cell_type": "code",
   "execution_count": 4,
   "metadata": {
    "colab": {
     "base_uri": "https://localhost:8080/"
    },
    "id": "2AJJE85h9gYw",
    "outputId": "d6c21b21-a7d0-4e8b-ce62-fbb972290002"
   },
   "outputs": [
    {
     "name": "stdout",
     "output_type": "stream",
     "text": [
      ".. _boston_dataset:\n",
      "\n",
      "Boston house prices dataset\n",
      "---------------------------\n",
      "\n",
      "**Data Set Characteristics:**  \n",
      "\n",
      "    :Number of Instances: 506 \n",
      "\n",
      "    :Number of Attributes: 13 numeric/categorical predictive. Median Value (attribute 14) is usually the target.\n",
      "\n",
      "    :Attribute Information (in order):\n",
      "        - CRIM     per capita crime rate by town\n",
      "        - ZN       proportion of residential land zoned for lots over 25,000 sq.ft.\n",
      "        - INDUS    proportion of non-retail business acres per town\n",
      "        - CHAS     Charles River dummy variable (= 1 if tract bounds river; 0 otherwise)\n",
      "        - NOX      nitric oxides concentration (parts per 10 million)\n",
      "        - RM       average number of rooms per dwelling\n",
      "        - AGE      proportion of owner-occupied units built prior to 1940\n",
      "        - DIS      weighted distances to five Boston employment centres\n",
      "        - RAD      index of accessibility to radial highways\n",
      "        - TAX      full-value property-tax rate per $10,000\n",
      "        - PTRATIO  pupil-teacher ratio by town\n",
      "        - B        1000(Bk - 0.63)^2 where Bk is the proportion of black people by town\n",
      "        - LSTAT    % lower status of the population\n",
      "        - MEDV     Median value of owner-occupied homes in $1000's\n",
      "\n",
      "    :Missing Attribute Values: None\n",
      "\n",
      "    :Creator: Harrison, D. and Rubinfeld, D.L.\n",
      "\n",
      "This is a copy of UCI ML housing dataset.\n",
      "https://archive.ics.uci.edu/ml/machine-learning-databases/housing/\n",
      "\n",
      "\n",
      "This dataset was taken from the StatLib library which is maintained at Carnegie Mellon University.\n",
      "\n",
      "The Boston house-price data of Harrison, D. and Rubinfeld, D.L. 'Hedonic\n",
      "prices and the demand for clean air', J. Environ. Economics & Management,\n",
      "vol.5, 81-102, 1978.   Used in Belsley, Kuh & Welsch, 'Regression diagnostics\n",
      "...', Wiley, 1980.   N.B. Various transformations are used in the table on\n",
      "pages 244-261 of the latter.\n",
      "\n",
      "The Boston house-price data has been used in many machine learning papers that address regression\n",
      "problems.   \n",
      "     \n",
      ".. topic:: References\n",
      "\n",
      "   - Belsley, Kuh & Welsch, 'Regression diagnostics: Identifying Influential Data and Sources of Collinearity', Wiley, 1980. 244-261.\n",
      "   - Quinlan,R. (1993). Combining Instance-Based and Model-Based Learning. In Proceedings on the Tenth International Conference of Machine Learning, 236-243, University of Massachusetts, Amherst. Morgan Kaufmann.\n",
      "\n"
     ]
    }
   ],
   "source": [
    "#DESCR - description 설명 보기\n",
    "print(boston['DESCR'])"
   ]
  },
  {
   "cell_type": "code",
   "execution_count": 5,
   "metadata": {
    "id": "4gFN7H0i-O1U"
   },
   "outputs": [],
   "source": [
    "data = boston['data']\n",
    "label = boston['target']\n",
    "columns = boston['feature_names']"
   ]
  },
  {
   "cell_type": "code",
   "execution_count": 6,
   "metadata": {
    "colab": {
     "base_uri": "https://localhost:8080/"
    },
    "id": "FJcAayi5-oeH",
    "outputId": "5776843c-4766-4280-b4fa-fd28126be781"
   },
   "outputs": [
    {
     "data": {
      "text/plain": [
       "<bound method NDFrame.head of         CRIM    ZN  INDUS  CHAS    NOX     RM   AGE     DIS  RAD    TAX  \\\n",
       "0    0.00632  18.0   2.31   0.0  0.538  6.575  65.2  4.0900  1.0  296.0   \n",
       "1    0.02731   0.0   7.07   0.0  0.469  6.421  78.9  4.9671  2.0  242.0   \n",
       "2    0.02729   0.0   7.07   0.0  0.469  7.185  61.1  4.9671  2.0  242.0   \n",
       "3    0.03237   0.0   2.18   0.0  0.458  6.998  45.8  6.0622  3.0  222.0   \n",
       "4    0.06905   0.0   2.18   0.0  0.458  7.147  54.2  6.0622  3.0  222.0   \n",
       "..       ...   ...    ...   ...    ...    ...   ...     ...  ...    ...   \n",
       "501  0.06263   0.0  11.93   0.0  0.573  6.593  69.1  2.4786  1.0  273.0   \n",
       "502  0.04527   0.0  11.93   0.0  0.573  6.120  76.7  2.2875  1.0  273.0   \n",
       "503  0.06076   0.0  11.93   0.0  0.573  6.976  91.0  2.1675  1.0  273.0   \n",
       "504  0.10959   0.0  11.93   0.0  0.573  6.794  89.3  2.3889  1.0  273.0   \n",
       "505  0.04741   0.0  11.93   0.0  0.573  6.030  80.8  2.5050  1.0  273.0   \n",
       "\n",
       "     PTRATIO       B  LSTAT  \n",
       "0       15.3  396.90   4.98  \n",
       "1       17.8  396.90   9.14  \n",
       "2       17.8  392.83   4.03  \n",
       "3       18.7  394.63   2.94  \n",
       "4       18.7  396.90   5.33  \n",
       "..       ...     ...    ...  \n",
       "501     21.0  391.99   9.67  \n",
       "502     21.0  396.90   9.08  \n",
       "503     21.0  396.90   5.64  \n",
       "504     21.0  393.45   6.48  \n",
       "505     21.0  396.90   7.88  \n",
       "\n",
       "[506 rows x 13 columns]>"
      ]
     },
     "execution_count": 6,
     "metadata": {},
     "output_type": "execute_result"
    }
   ],
   "source": [
    "#데이터 프레임 객체로 변환\n",
    "data = pd.DataFrame(data, columns = columns)\n",
    "data.head"
   ]
  },
  {
   "cell_type": "code",
   "execution_count": 7,
   "metadata": {
    "colab": {
     "base_uri": "https://localhost:8080/"
    },
    "id": "HPipngRK_CWE",
    "outputId": "86e318bd-0994-44e6-9b12-0167ce6d4400"
   },
   "outputs": [
    {
     "data": {
      "text/plain": [
       "(506, 13)"
      ]
     },
     "execution_count": 7,
     "metadata": {},
     "output_type": "execute_result"
    }
   ],
   "source": [
    "data.shape"
   ]
  },
  {
   "cell_type": "markdown",
   "metadata": {
    "id": "2-yJuKh1_OXQ"
   },
   "source": [
    "### Simple Linear Regression"
   ]
  },
  {
   "cell_type": "code",
   "execution_count": 8,
   "metadata": {
    "id": "DmkK0tmK_FCd"
   },
   "outputs": [],
   "source": [
    "#하나의 속성(방 개수)만으로 예측\n",
    "\n",
    "from sklearn.model_selection import train_test_split\n",
    "X_train, X_test, y_train, y_test = train_test_split(data, label, test_size=0.2,random_state=2022) "
   ]
  },
  {
   "cell_type": "code",
   "execution_count": 9,
   "metadata": {
    "colab": {
     "base_uri": "https://localhost:8080/"
    },
    "id": "kACgtq0pDaPv",
    "outputId": "b53f0fb9-fc2a-407e-8bae-1db54f10e6d6"
   },
   "outputs": [
    {
     "data": {
      "text/plain": [
       "256    7.454\n",
       "288    6.315\n",
       "318    6.382\n",
       "136    5.942\n",
       "233    8.247\n",
       "       ...  \n",
       "177    6.315\n",
       "112    5.913\n",
       "173    6.416\n",
       "220    6.951\n",
       "381    6.545\n",
       "Name: RM, Length: 404, dtype: float64"
      ]
     },
     "execution_count": 9,
     "metadata": {},
     "output_type": "execute_result"
    }
   ],
   "source": [
    "#방 개수 = RM\n",
    "X_train['RM']"
   ]
  },
  {
   "cell_type": "markdown",
   "metadata": {
    "id": "xp002JGUD1gw"
   },
   "source": [
    "사이킷런은 2차원 이상의 데이터만 취급한다.  \n",
    "따라서 위의 데이터를 바로 사용할 수 없다."
   ]
  },
  {
   "cell_type": "code",
   "execution_count": 10,
   "metadata": {
    "colab": {
     "base_uri": "https://localhost:8080/"
    },
    "id": "aeZbmuX2D822",
    "outputId": "6166995d-ba4c-4b51-b0ae-8750e2065bd0"
   },
   "outputs": [
    {
     "data": {
      "text/plain": [
       "array([[7.454],\n",
       "       [6.315],\n",
       "       [6.382],\n",
       "       [5.942],\n",
       "       [8.247]])"
      ]
     },
     "execution_count": 10,
     "metadata": {},
     "output_type": "execute_result"
    }
   ],
   "source": [
    "#reshape를 통해 다시 만든다.\n",
    "X_train['RM'].values.reshape(-1,1)[:5]"
   ]
  },
  {
   "cell_type": "markdown",
   "metadata": {
    "id": "k3ZY_sfuFJ25"
   },
   "source": [
    "(행,열)이고 전체 개수를 알 수 없을 경우에는 -1을 하여 준다.  \n",
    "([:5]는 데이터를 5개만 출력하여 결과를 보기위해 붙여준다.)"
   ]
  },
  {
   "cell_type": "code",
   "execution_count": 11,
   "metadata": {
    "id": "trFYrJXXFTBO"
   },
   "outputs": [],
   "source": [
    "from sklearn.linear_model import LinearRegression\n",
    "sim_lr = LinearRegression()"
   ]
  },
  {
   "cell_type": "code",
   "execution_count": 12,
   "metadata": {
    "colab": {
     "base_uri": "https://localhost:8080/"
    },
    "id": "KRwBtTOyF4Hi",
    "outputId": "823a7d63-ac8f-4a8d-9bcd-80c2d949e444"
   },
   "outputs": [
    {
     "data": {
      "text/plain": [
       "LinearRegression()"
      ]
     },
     "execution_count": 12,
     "metadata": {},
     "output_type": "execute_result"
    }
   ],
   "source": [
    "#학습하기\n",
    "sim_lr.fit(X_train['RM'].values.reshape(-1,1), y_train)"
   ]
  },
  {
   "cell_type": "code",
   "execution_count": 13,
   "metadata": {
    "id": "L-yiueo5GfH1"
   },
   "outputs": [],
   "source": [
    "#예측 결과 출력\n",
    "y_pred = sim_lr.predict(X_test['RM'].values.reshape(-1,1))"
   ]
  },
  {
   "cell_type": "markdown",
   "metadata": {
    "id": "IhxfN4e6HZ_3"
   },
   "source": [
    "#### 결과 분석"
   ]
  },
  {
   "cell_type": "code",
   "execution_count": 14,
   "metadata": {
    "colab": {
     "base_uri": "https://localhost:8080/"
    },
    "id": "x_a_NGBrHCaB",
    "outputId": "687b474d-319e-419b-be94-8fc4bbff2b71"
   },
   "outputs": [
    {
     "name": "stdout",
     "output_type": "stream",
     "text": [
      "단순 선형 회귀, R2: 0.2121\n"
     ]
    }
   ],
   "source": [
    "#결과 살펴보기\n",
    "from sklearn.metrics import r2_score\n",
    "print('단순 선형 회귀, R2: {:.4f}'.format(r2_score(y_test, y_pred)))"
   ]
  },
  {
   "cell_type": "code",
   "execution_count": 15,
   "metadata": {
    "colab": {
     "base_uri": "https://localhost:8080/",
     "height": 284
    },
    "id": "DPqz7FbDIh-6",
    "outputId": "d4edf04f-615c-45fc-b63e-487a155c8dcf"
   },
   "outputs": [
    {
     "data": {
      "text/plain": [
       "<matplotlib.collections.PathCollection at 0x23a20e3ce20>"
      ]
     },
     "execution_count": 15,
     "metadata": {},
     "output_type": "execute_result"
    },
    {
     "data": {
      "image/png": "[encoded data removed]",
      "text/plain": [
       "<Figure size 432x288 with 1 Axes>"
      ]
     },
     "metadata": {
      "needs_background": "light"
     },
     "output_type": "display_data"
    }
   ],
   "source": [
    "#결과 시각화 하기\n",
    "line_x = np.linspace(np.min(X_test['RM']), np.max(X_test['RM']), 10)\n",
    "line_y = sim_lr.predict(line_x.reshape(-1,1))\n",
    "\n",
    "plt.scatter(X_test['RM'], y_test, s=10, c='black')"
   ]
  },
  {
   "cell_type": "code",
   "execution_count": 16,
   "metadata": {
    "colab": {
     "base_uri": "https://localhost:8080/",
     "height": 284
    },
    "id": "1zRoAU_3LLg3",
    "outputId": "616f085a-ae3a-4caf-dfa7-9dd11be8a016"
   },
   "outputs": [
    {
     "data": {
      "text/plain": [
       "<matplotlib.legend.Legend at 0x23a20f49b20>"
      ]
     },
     "execution_count": 16,
     "metadata": {},
     "output_type": "execute_result"
    },
    {
     "data": {
      "image/png": "[encoded data removed]",
      "text/plain": [
       "<Figure size 432x288 with 1 Axes>"
      ]
     },
     "metadata": {
      "needs_background": "light"
     },
     "output_type": "display_data"
    }
   ],
   "source": [
    "plt.scatter(X_test['RM'], y_test, s=10, c='black')\n",
    "# 선 추가\n",
    "plt.plot(line_x, line_y, c='red')\n",
    "plt.legend(['Regression line','Test data sample'], loc='upper left')"
   ]
  },
  {
   "cell_type": "markdown",
   "metadata": {
    "id": "rreLpjs8LzbY"
   },
   "source": [
    "### Multiple Linear Regression"
   ]
  },
  {
   "cell_type": "code",
   "execution_count": 17,
   "metadata": {
    "colab": {
     "base_uri": "https://localhost:8080/"
    },
    "id": "6Z-vJjG-LkSn",
    "outputId": "a0e0fe65-0f6e-4922-877f-c801352c7979"
   },
   "outputs": [
    {
     "data": {
      "text/plain": [
       "LinearRegression()"
      ]
     },
     "execution_count": 17,
     "metadata": {},
     "output_type": "execute_result"
    }
   ],
   "source": [
    "mul_lr = LinearRegression()\n",
    "mul_lr.fit(X_train, y_train)     #X_train으로 모든 속성을 사용"
   ]
  },
  {
   "cell_type": "code",
   "execution_count": 18,
   "metadata": {
    "colab": {
     "base_uri": "https://localhost:8080/"
    },
    "id": "MIrk-_c6MjZp",
    "outputId": "2a746bed-ca76-4aa5-d518-1df66dfe90e4",
    "scrolled": true
   },
   "outputs": [
    {
     "name": "stdout",
     "output_type": "stream",
     "text": [
      "다중 선현 회귀, R2: 0.6226\n"
     ]
    }
   ],
   "source": [
    "y_pred = mul_lr.predict(X_test)\n",
    "print('다중 선현 회귀, R2: {:.4f}'.format(r2_score(y_test, y_pred)))"
   ]
  },
  {
   "cell_type": "markdown",
   "metadata": {},
   "source": [
    "회귀 모델의 계수 w, 절편 b를 확인한다.  \n",
    "어떤 변수에 얼마 만큼의 가중치가 할당되고, 절편 값은 얼마나 할당되는지 살펴볼 수 있습니다."
   ]
  },
  {
   "cell_type": "code",
   "execution_count": 25,
   "metadata": {},
   "outputs": [
    {
     "name": "stdout",
     "output_type": "stream",
     "text": [
      "다중 선형 회귀, 계수(w) : [-1.09358524e-01  4.17604608e-02  4.92275845e-02  2.75483861e+00\n",
      " -1.37425402e+01  4.71242684e+00 -1.19656681e-02 -1.43522444e+00\n",
      "  2.98673854e-01 -1.23637115e-02 -8.95540107e-01  1.03495304e-02\n",
      " -5.21139480e-01], 절편(b) : 27.6150\n"
     ]
    }
   ],
   "source": [
    "print('다중 선형 회귀, 계수(w) : {}, 절편(b) : {:.4f}'.format(mul_lr.coef_, mul_lr.intercept_))"
   ]
  },
  {
   "cell_type": "markdown",
   "metadata": {
    "id": "KaILGQbqOL3u"
   },
   "source": [
    "### Decision Tree Regressor"
   ]
  },
  {
   "cell_type": "code",
   "execution_count": 19,
   "metadata": {
    "id": "42LP3qkXNc_h"
   },
   "outputs": [],
   "source": [
    "from sklearn.tree import DecisionTreeRegressor\n",
    "dt_regr = DecisionTreeRegressor(max_depth = 5)"
   ]
  },
  {
   "cell_type": "markdown",
   "metadata": {
    "id": "IVUg2lwWOoU9"
   },
   "source": [
    "트리가 몇 단계까지 내려갈지 max_depth를 통하여 설정한다  \n",
    "실제로 코딩하면 재귀호출 형태를 띈다."
   ]
  },
  {
   "cell_type": "code",
   "execution_count": 20,
   "metadata": {
    "colab": {
     "base_uri": "https://localhost:8080/"
    },
    "id": "xFRdhOaEOsdI",
    "outputId": "a0592b56-2cf8-41ec-feb5-ef875bc92470"
   },
   "outputs": [
    {
     "data": {
      "text/plain": [
       "DecisionTreeRegressor(max_depth=5)"
      ]
     },
     "execution_count": 20,
     "metadata": {},
     "output_type": "execute_result"
    }
   ],
   "source": [
    "dt_regr.fit(X_train['RM'].values.reshape((-1,1)), y_train)"
   ]
  },
  {
   "cell_type": "code",
   "execution_count": 21,
   "metadata": {
    "id": "DDXKvcaUPCLZ"
   },
   "outputs": [],
   "source": [
    "y_pred = dt_regr.predict(X_test['RM'].values.reshape(-1,1))"
   ]
  },
  {
   "cell_type": "code",
   "execution_count": 22,
   "metadata": {
    "colab": {
     "base_uri": "https://localhost:8080/"
    },
    "id": "_mINQhaEP4Hv",
    "outputId": "22f80029-0127-4eeb-a0ca-0aaefead294a"
   },
   "outputs": [
    {
     "name": "stdout",
     "output_type": "stream",
     "text": [
      "단순 결정 트리 회귀 R2: 0.3247\n"
     ]
    }
   ],
   "source": [
    "print('단순 결정 트리 회귀 R2: {:.4f}'.format(r2_score(y_test, y_pred)))"
   ]
  },
  {
   "cell_type": "markdown",
   "metadata": {
    "id": "eMtbay6jQL-K"
   },
   "source": [
    "단계를 4로 하면 0.3474  \n",
    "단계를 7로 하면 0.3164  \n",
    "오버피팅 현상이 발생한다."
   ]
  },
  {
   "cell_type": "markdown",
   "metadata": {},
   "source": [
    "#### 그렇다면 제일 좋은 깊이는 몇 일까?\n",
    "반복문을 활용하여 제일 R2값이 높은 깊이가 나올때까지 돌려서 확인하는 것이 제일 좋다"
   ]
  },
  {
   "cell_type": "code",
   "execution_count": 23,
   "metadata": {},
   "outputs": [
    {
     "data": {
      "text/plain": [
       "array([1, 2, 3, 4, 5, 6, 7, 8, 9])"
      ]
     },
     "execution_count": 23,
     "metadata": {},
     "output_type": "execute_result"
    }
   ],
   "source": [
    "arr = np.arange(1, 10)  #1부터 10까지 생성\n",
    "arr"
   ]
  },
  {
   "cell_type": "code",
   "execution_count": 28,
   "metadata": {},
   "outputs": [
    {
     "name": "stdout",
     "output_type": "stream",
     "text": [
      "최적의 결과는 depth=3 r2=0.3931\n"
     ]
    }
   ],
   "source": [
    "best_depth = 0\n",
    "best_r2 = 0\n",
    "\n",
    "for depth in arr:\n",
    "  dt_regr = DecisionTreeRegressor(max_depth=depth)\n",
    "  dt_regr.fit(X_train['RM'].values.reshape((-1,1)), y_train)\n",
    "  y_pred = dt_regr.predict(X_test['RM'].values.reshape(-1,1))\n",
    "  \n",
    "  temp_r2 = r2_score(y_test, y_pred)\n",
    "  #print('\\n단순 결정 트리 회귀 depth={} R2: {:.4f}'.format(depth, temp_r2))\n",
    "\n",
    "  if best_r2 < temp_r2:\n",
    "    best_depth = depth\n",
    "    best_r2 = temp_r2\n",
    "\n",
    "print('최적의 결과는 depth={} r2={:.4f}'.format(best_depth, best_r2))"
   ]
  },
  {
   "cell_type": "markdown",
   "metadata": {},
   "source": [
    "### 다중 결정 트리"
   ]
  },
  {
   "cell_type": "code",
   "execution_count": 29,
   "metadata": {},
   "outputs": [
    {
     "name": "stdout",
     "output_type": "stream",
     "text": [
      "다중 결정 트리 R2: 0.7417\n"
     ]
    }
   ],
   "source": [
    "dt_regr = DecisionTreeRegressor(max_depth=8)\n",
    "dt_regr.fit(X_train, y_train)\n",
    "\n",
    "y_pred = dt_regr.predict(X_test)\n",
    "print('다중 결정 트리 R2: {:.4f}'.format(r2_score(y_test, y_pred)))"
   ]
  },
  {
   "cell_type": "markdown",
   "metadata": {},
   "source": [
    "### Support Vector machine Regressor"
   ]
  },
  {
   "cell_type": "code",
   "execution_count": 31,
   "metadata": {},
   "outputs": [
    {
     "name": "stdout",
     "output_type": "stream",
     "text": [
      "단순 서포트 벡터 머신 회귀 R2: 0.4049\n"
     ]
    }
   ],
   "source": [
    "# Support Vector machine Regressor \n",
    "from sklearn.svm import SVR\n",
    "svm_regr = SVR(C=5)\n",
    "\n",
    "svm_regr.fit(X_train['RM'].values.reshape(-1,1), y_train)\n",
    "y_pred = svm_regr.predict(X_test['RM'].values.reshape(-1,1))\n",
    "\n",
    "print('단순 서포트 벡터 머신 회귀 R2: {:.4f}'.format(r2_score(y_test,y_pred)))"
   ]
  },
  {
   "cell_type": "markdown",
   "metadata": {},
   "source": [
    "![서포트벡터사진](https://upload.wikimedia.org/wikipedia/commons/thumb/7/72/SVM_margin.png/300px-SVM_margin.png)"
   ]
  },
  {
   "cell_type": "markdown",
   "metadata": {},
   "source": [
    "2개의 그룹에 가운데를 관통하는 회귀선을 만든다.  \n",
    "여기서 중요 포인트는 가운데의 선을 최적의 각도로 긋는 것이다.  \n",
    "사용되는 방법은 빨간 선에서 양 옆으로 선을 점점 늘렸을때 가장 서포트 벡터에 안 걸리게 넓힐 수 있는 각도가 가장 좋은 직교하는 라인이라는 것을 알 수 있다.\n",
    "\n",
    "여기서 자주 사용하는 옵션은 아웃라이너 안에 몇 개의 서포트 벡터가 들어와도 허용하여 좀 더 좋은 선을 긋는다.  \n",
    "위의 코드에서 5개까지 허용하는 것을 볼 수 있다.  \n",
    "이 모델은 분류와 회귀에서 사용할 수 있는 모델이다. 선을 긋기 때문에 회귀에서 사용할 수 있다."
   ]
  },
  {
   "cell_type": "code",
   "execution_count": 32,
   "metadata": {},
   "outputs": [
    {
     "data": {
      "text/plain": [
       "<matplotlib.legend.Legend at 0x23a22be99a0>"
      ]
     },
     "execution_count": 32,
     "metadata": {},
     "output_type": "execute_result"
    },
    {
     "data": {
      "image/png": "[encoded data removed]",
      "text/plain": [
       "<Figure size 432x288 with 1 Axes>"
      ]
     },
     "metadata": {
      "needs_background": "light"
     },
     "output_type": "display_data"
    }
   ],
   "source": [
    "# 결과의 시각화\n",
    "line_x = np.linspace(np.min(X_test['RM']), np.max(X_test['RM']), 100)\n",
    "line_y = svm_regr.predict(line_x.reshape(-1,1))\n",
    "\n",
    "plt.scatter(X_test['RM'], y_test, c='black')\n",
    "plt.plot(line_x, line_y, c='red')\n",
    "plt.legend(['Regression line', 'Test data sample'], loc='upper left')"
   ]
  },
  {
   "cell_type": "markdown",
   "metadata": {},
   "source": [
    "### Multi Layer Perceptron Regressor(MLP)\n",
    "\n",
    "딥러닝의 기본 모델인 뉴럴 네트워크를 기반으로 한 회귀 모델  \n",
    "기본적으로 MLP라 하면, 입력층-은닉층-출력층 3개로 이루어진 뉴럴 네트워크를 의미한다\n",
    "\n",
    "![mlp 사진](images/mlp.jpg)"
   ]
  },
  {
   "cell_type": "code",
   "execution_count": 34,
   "metadata": {},
   "outputs": [
    {
     "name": "stdout",
     "output_type": "stream",
     "text": [
      "다중 MLP 회귀, R2: 0.4919\n"
     ]
    }
   ],
   "source": [
    "from  sklearn.neural_network import MLPRegressor\n",
    "mlp_regr = MLPRegressor()\n",
    "\n",
    "mlp_regr.fit(X_train, y_train)\n",
    "y_pred = mlp_regr.predict(X_test)\n",
    "\n",
    "print('다중 MLP 회귀, R2: {:.4f}'.format(r2_score(y_test,y_pred)))"
   ]
  },
  {
   "cell_type": "markdown",
   "metadata": {},
   "source": [
    "+)옵션 추가"
   ]
  },
  {
   "cell_type": "code",
   "execution_count": 35,
   "metadata": {},
   "outputs": [
    {
     "name": "stdout",
     "output_type": "stream",
     "text": [
      "다중 MLP 회귀, R2: 0.5026\n"
     ]
    }
   ],
   "source": [
    "#왠만하면 adam이 제일 잘 맞는다.\n",
    "mlp_regr = MLPRegressor(solver='adam',hidden_layer_sizes=300,max_iter=300) #lbfgs, sgd, adam\n",
    "\n",
    "mlp_regr.fit(X_train, y_train)\n",
    "y_pred = mlp_regr.predict(X_test)\n",
    "\n",
    "print('다중 MLP 회귀, R2: {:.4f}'.format(r2_score(y_test,y_pred)))"
   ]
  },
  {
   "cell_type": "markdown",
   "metadata": {},
   "source": [
    "hidden_layer_sizes의 기본 값은 100이며, hidden_layer층의 크기를 정한다.  \n",
    "max_iter의 기본 값은 200이며, 결과를 내기 위해서 최대 반복 횟수를 지정한다."
   ]
  }
 ],
 "metadata": {
  "colab": {
   "collapsed_sections": [
    "6mXBTEUu_TJ7",
    "2-yJuKh1_OXQ",
    "rreLpjs8LzbY"
   ],
   "provenance": []
  },
  "kernelspec": {
   "display_name": "Python 3 (ipykernel)",
   "language": "python",
   "name": "python3"
  },
  "language_info": {
   "codemirror_mode": {
    "name": "ipython",
    "version": 3
   },
   "file_extension": ".py",
   "mimetype": "text/x-python",
   "name": "python",
   "nbconvert_exporter": "python",
   "pygments_lexer": "ipython3",
   "version": "3.9.7"
  }
 },
 "nbformat": 4,
 "nbformat_minor": 1
}
