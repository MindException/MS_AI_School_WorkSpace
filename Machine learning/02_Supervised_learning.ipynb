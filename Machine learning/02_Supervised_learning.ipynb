{
  "nbformat": 4,
  "nbformat_minor": 0,
  "metadata": {
    "colab": {
      "provenance": [],
      "collapsed_sections": [
        "6mXBTEUu_TJ7",
        "2-yJuKh1_OXQ",
        "rreLpjs8LzbY"
      ]
    },
    "kernelspec": {
      "name": "python3",
      "display_name": "Python 3"
    },
    "language_info": {
      "name": "python"
    }
  },
  "cells": [
    {
      "cell_type": "markdown",
      "source": [
        "### Boston 데이터 세팅"
      ],
      "metadata": {
        "id": "6mXBTEUu_TJ7"
      }
    },
    {
      "cell_type": "code",
      "execution_count": null,
      "metadata": {
        "id": "B2j5VHA17csb"
      },
      "outputs": [],
      "source": [
        "import numpy as np\n",
        "import pandas as pd\n",
        "import sklearn\n",
        "import matplotlib.pyplot as plt\n",
        "\n",
        "#경고 없애기\n",
        "import warnings\n",
        "warnings.filterwarnings('ignore')"
      ]
    },
    {
      "cell_type": "code",
      "source": [
        "#보스턴 집값 불러오기\n",
        "from sklearn.datasets import load_boston\n",
        "boston = load_boston()"
      ],
      "metadata": {
        "id": "Q_F8_41k9B-I"
      },
      "execution_count": null,
      "outputs": []
    },
    {
      "cell_type": "code",
      "source": [
        "#DESCR - description 설명 보기\n",
        "print(boston['DESCR'])"
      ],
      "metadata": {
        "colab": {
          "base_uri": "https://localhost:8080/"
        },
        "id": "2AJJE85h9gYw",
        "outputId": "d6c21b21-a7d0-4e8b-ce62-fbb972290002"
      },
      "execution_count": null,
      "outputs": [
        {
          "output_type": "stream",
          "name": "stdout",
          "text": [
            ".. _boston_dataset:\n",
            "\n",
            "Boston house prices dataset\n",
            "---------------------------\n",
            "\n",
            "**Data Set Characteristics:**  \n",
            "\n",
            "    :Number of Instances: 506 \n",
            "\n",
            "    :Number of Attributes: 13 numeric/categorical predictive. Median Value (attribute 14) is usually the target.\n",
            "\n",
            "    :Attribute Information (in order):\n",
            "        - CRIM     per capita crime rate by town\n",
            "        - ZN       proportion of residential land zoned for lots over 25,000 sq.ft.\n",
            "        - INDUS    proportion of non-retail business acres per town\n",
            "        - CHAS     Charles River dummy variable (= 1 if tract bounds river; 0 otherwise)\n",
            "        - NOX      nitric oxides concentration (parts per 10 million)\n",
            "        - RM       average number of rooms per dwelling\n",
            "        - AGE      proportion of owner-occupied units built prior to 1940\n",
            "        - DIS      weighted distances to five Boston employment centres\n",
            "        - RAD      index of accessibility to radial highways\n",
            "        - TAX      full-value property-tax rate per $10,000\n",
            "        - PTRATIO  pupil-teacher ratio by town\n",
            "        - B        1000(Bk - 0.63)^2 where Bk is the proportion of black people by town\n",
            "        - LSTAT    % lower status of the population\n",
            "        - MEDV     Median value of owner-occupied homes in $1000's\n",
            "\n",
            "    :Missing Attribute Values: None\n",
            "\n",
            "    :Creator: Harrison, D. and Rubinfeld, D.L.\n",
            "\n",
            "This is a copy of UCI ML housing dataset.\n",
            "https://archive.ics.uci.edu/ml/machine-learning-databases/housing/\n",
            "\n",
            "\n",
            "This dataset was taken from the StatLib library which is maintained at Carnegie Mellon University.\n",
            "\n",
            "The Boston house-price data of Harrison, D. and Rubinfeld, D.L. 'Hedonic\n",
            "prices and the demand for clean air', J. Environ. Economics & Management,\n",
            "vol.5, 81-102, 1978.   Used in Belsley, Kuh & Welsch, 'Regression diagnostics\n",
            "...', Wiley, 1980.   N.B. Various transformations are used in the table on\n",
            "pages 244-261 of the latter.\n",
            "\n",
            "The Boston house-price data has been used in many machine learning papers that address regression\n",
            "problems.   \n",
            "     \n",
            ".. topic:: References\n",
            "\n",
            "   - Belsley, Kuh & Welsch, 'Regression diagnostics: Identifying Influential Data and Sources of Collinearity', Wiley, 1980. 244-261.\n",
            "   - Quinlan,R. (1993). Combining Instance-Based and Model-Based Learning. In Proceedings on the Tenth International Conference of Machine Learning, 236-243, University of Massachusetts, Amherst. Morgan Kaufmann.\n",
            "\n"
          ]
        }
      ]
    },
    {
      "cell_type": "code",
      "source": [
        "data = boston['data']\n",
        "label = boston['target']\n",
        "columns = boston['feature_names']"
      ],
      "metadata": {
        "id": "4gFN7H0i-O1U"
      },
      "execution_count": null,
      "outputs": []
    },
    {
      "cell_type": "code",
      "source": [
        "#데이터 프레임 객체로 변환\n",
        "data = pd.DataFrame(data, columns = columns)\n",
        "data.head"
      ],
      "metadata": {
        "colab": {
          "base_uri": "https://localhost:8080/"
        },
        "id": "FJcAayi5-oeH",
        "outputId": "5776843c-4766-4280-b4fa-fd28126be781"
      },
      "execution_count": null,
      "outputs": [
        {
          "output_type": "execute_result",
          "data": {
            "text/plain": [
              "<bound method NDFrame.head of         CRIM    ZN  INDUS  CHAS    NOX     RM   AGE     DIS  RAD    TAX  \\\n",
              "0    0.00632  18.0   2.31   0.0  0.538  6.575  65.2  4.0900  1.0  296.0   \n",
              "1    0.02731   0.0   7.07   0.0  0.469  6.421  78.9  4.9671  2.0  242.0   \n",
              "2    0.02729   0.0   7.07   0.0  0.469  7.185  61.1  4.9671  2.0  242.0   \n",
              "3    0.03237   0.0   2.18   0.0  0.458  6.998  45.8  6.0622  3.0  222.0   \n",
              "4    0.06905   0.0   2.18   0.0  0.458  7.147  54.2  6.0622  3.0  222.0   \n",
              "..       ...   ...    ...   ...    ...    ...   ...     ...  ...    ...   \n",
              "501  0.06263   0.0  11.93   0.0  0.573  6.593  69.1  2.4786  1.0  273.0   \n",
              "502  0.04527   0.0  11.93   0.0  0.573  6.120  76.7  2.2875  1.0  273.0   \n",
              "503  0.06076   0.0  11.93   0.0  0.573  6.976  91.0  2.1675  1.0  273.0   \n",
              "504  0.10959   0.0  11.93   0.0  0.573  6.794  89.3  2.3889  1.0  273.0   \n",
              "505  0.04741   0.0  11.93   0.0  0.573  6.030  80.8  2.5050  1.0  273.0   \n",
              "\n",
              "     PTRATIO       B  LSTAT  \n",
              "0       15.3  396.90   4.98  \n",
              "1       17.8  396.90   9.14  \n",
              "2       17.8  392.83   4.03  \n",
              "3       18.7  394.63   2.94  \n",
              "4       18.7  396.90   5.33  \n",
              "..       ...     ...    ...  \n",
              "501     21.0  391.99   9.67  \n",
              "502     21.0  396.90   9.08  \n",
              "503     21.0  396.90   5.64  \n",
              "504     21.0  393.45   6.48  \n",
              "505     21.0  396.90   7.88  \n",
              "\n",
              "[506 rows x 13 columns]>"
            ]
          },
          "metadata": {},
          "execution_count": 6
        }
      ]
    },
    {
      "cell_type": "code",
      "source": [
        "data.shape"
      ],
      "metadata": {
        "colab": {
          "base_uri": "https://localhost:8080/"
        },
        "id": "HPipngRK_CWE",
        "outputId": "86e318bd-0994-44e6-9b12-0167ce6d4400"
      },
      "execution_count": null,
      "outputs": [
        {
          "output_type": "execute_result",
          "data": {
            "text/plain": [
              "(506, 13)"
            ]
          },
          "metadata": {},
          "execution_count": 7
        }
      ]
    },
    {
      "cell_type": "markdown",
      "source": [
        "### Simple Linear Regression"
      ],
      "metadata": {
        "id": "2-yJuKh1_OXQ"
      }
    },
    {
      "cell_type": "code",
      "source": [
        "#하나의 속성(방 개수)만으로 예측\n",
        "\n",
        "from sklearn.model_selection import train_test_split\n",
        "X_train, X_test, y_train, y_test = train_test_split(data, label, test_size=0.2,random_state=2022) "
      ],
      "metadata": {
        "id": "DmkK0tmK_FCd"
      },
      "execution_count": null,
      "outputs": []
    },
    {
      "cell_type": "code",
      "source": [
        "#방 개수 = RM\n",
        "X_train['RM']"
      ],
      "metadata": {
        "colab": {
          "base_uri": "https://localhost:8080/"
        },
        "id": "kACgtq0pDaPv",
        "outputId": "b53f0fb9-fc2a-407e-8bae-1db54f10e6d6"
      },
      "execution_count": null,
      "outputs": [
        {
          "output_type": "execute_result",
          "data": {
            "text/plain": [
              "256    7.454\n",
              "288    6.315\n",
              "318    6.382\n",
              "136    5.942\n",
              "233    8.247\n",
              "       ...  \n",
              "177    6.315\n",
              "112    5.913\n",
              "173    6.416\n",
              "220    6.951\n",
              "381    6.545\n",
              "Name: RM, Length: 404, dtype: float64"
            ]
          },
          "metadata": {},
          "execution_count": 9
        }
      ]
    },
    {
      "cell_type": "markdown",
      "source": [
        "사이킷런은 2차원 이상의 데이터만 취급한다.  \n",
        "따라서 위의 데이터를 바로 사용할 수 없다."
      ],
      "metadata": {
        "id": "xp002JGUD1gw"
      }
    },
    {
      "cell_type": "code",
      "source": [
        "#reshape를 통해 다시 만든다.\n",
        "X_train['RM'].values.reshape(-1,1)[:5]"
      ],
      "metadata": {
        "colab": {
          "base_uri": "https://localhost:8080/"
        },
        "id": "aeZbmuX2D822",
        "outputId": "6166995d-ba4c-4b51-b0ae-8750e2065bd0"
      },
      "execution_count": null,
      "outputs": [
        {
          "output_type": "execute_result",
          "data": {
            "text/plain": [
              "array([[7.454],\n",
              "       [6.315],\n",
              "       [6.382],\n",
              "       [5.942],\n",
              "       [8.247]])"
            ]
          },
          "metadata": {},
          "execution_count": 10
        }
      ]
    },
    {
      "cell_type": "markdown",
      "source": [
        "(행,열)이고 전체 개수를 알 수 없을 경우에는 -1을 하여 준다.  \n",
        "([:5]는 데이터를 5개만 출력하여 결과를 보기위해 붙여준다.)"
      ],
      "metadata": {
        "id": "k3ZY_sfuFJ25"
      }
    },
    {
      "cell_type": "code",
      "source": [
        "from sklearn.linear_model import LinearRegression\n",
        "sim_lr = LinearRegression()"
      ],
      "metadata": {
        "id": "trFYrJXXFTBO"
      },
      "execution_count": null,
      "outputs": []
    },
    {
      "cell_type": "code",
      "source": [
        "#학습하기\n",
        "sim_lr.fit(X_train['RM'].values.reshape(-1,1), y_train)"
      ],
      "metadata": {
        "colab": {
          "base_uri": "https://localhost:8080/"
        },
        "id": "KRwBtTOyF4Hi",
        "outputId": "823a7d63-ac8f-4a8d-9bcd-80c2d949e444"
      },
      "execution_count": null,
      "outputs": [
        {
          "output_type": "execute_result",
          "data": {
            "text/plain": [
              "LinearRegression()"
            ]
          },
          "metadata": {},
          "execution_count": 12
        }
      ]
    },
    {
      "cell_type": "code",
      "source": [
        "#예측 결과 출력\n",
        "y_pred = sim_lr.predict(X_test['RM'].values.reshape(-1,1))"
      ],
      "metadata": {
        "id": "L-yiueo5GfH1"
      },
      "execution_count": null,
      "outputs": []
    },
    {
      "cell_type": "markdown",
      "source": [
        "#### 결과 분석"
      ],
      "metadata": {
        "id": "IhxfN4e6HZ_3"
      }
    },
    {
      "cell_type": "code",
      "source": [
        "#결과 살펴보기\n",
        "from sklearn.metrics import r2_score\n",
        "print('단순 선형 회귀, R2: {:.4f}'.format(r2_score(y_test, y_pred)))"
      ],
      "metadata": {
        "colab": {
          "base_uri": "https://localhost:8080/"
        },
        "id": "x_a_NGBrHCaB",
        "outputId": "687b474d-319e-419b-be94-8fc4bbff2b71"
      },
      "execution_count": null,
      "outputs": [
        {
          "output_type": "stream",
          "name": "stdout",
          "text": [
            "단순 선형 회귀, R2: 0.2121\n"
          ]
        }
      ]
    },
    {
      "cell_type": "code",
      "source": [
        "#결과 시각화 하기\n",
        "line_x = np.linspace(np.min(X_test['RM']), np.max(X_test['RM']), 10)\n",
        "line_y = sim_lr.predict(line_x.reshape(-1,1))\n",
        "\n",
        "plt.scatter(X_test['RM'], y_test, s=10, c='black')"
      ],
      "metadata": {
        "colab": {
          "base_uri": "https://localhost:8080/",
          "height": 284
        },
        "id": "DPqz7FbDIh-6",
        "outputId": "d4edf04f-615c-45fc-b63e-487a155c8dcf"
      },
      "execution_count": null,
      "outputs": [
        {
          "output_type": "execute_result",
          "data": {
            "text/plain": [
              "<matplotlib.collections.PathCollection at 0x7f25b5857c90>"
            ]
          },
          "metadata": {},
          "execution_count": 15
        },
        {
          "output_type": "display_data",
          "data": {
            "text/plain": [
              "<Figure size 432x288 with 1 Axes>"
            ],
            "image/png": "[encoded data removed]"
          },
          "metadata": {
            "needs_background": "light"
          }
        }
      ]
    },
    {
      "cell_type": "code",
      "source": [
        "plt.scatter(X_test['RM'], y_test, s=10, c='black')\n",
        "# 선 추가\n",
        "plt.plot(line_x, line_y, c='red')\n",
        "plt.legend(['Regression line','Test data sample'], loc='upper left')"
      ],
      "metadata": {
        "colab": {
          "base_uri": "https://localhost:8080/",
          "height": 284
        },
        "id": "1zRoAU_3LLg3",
        "outputId": "616f085a-ae3a-4caf-dfa7-9dd11be8a016"
      },
      "execution_count": null,
      "outputs": [
        {
          "output_type": "execute_result",
          "data": {
            "text/plain": [
              "<matplotlib.legend.Legend at 0x7f25b5352c90>"
            ]
          },
          "metadata": {},
          "execution_count": 16
        },
        {
          "output_type": "display_data",
          "data": {
            "text/plain": [
              "<Figure size 432x288 with 1 Axes>"
            ],
            "image/png": "[encoded data removed]"
          },
          "metadata": {
            "needs_background": "light"
          }
        }
      ]
    },
    {
      "cell_type": "markdown",
      "source": [
        "### Multiple Linear Regression"
      ],
      "metadata": {
        "id": "rreLpjs8LzbY"
      }
    },
    {
      "cell_type": "code",
      "source": [
        "mul_lr = LinearRegression()\n",
        "mul_lr.fit(X_train, y_train)     #X_train으로 모든 속성을 사용"
      ],
      "metadata": {
        "colab": {
          "base_uri": "https://localhost:8080/"
        },
        "id": "6Z-vJjG-LkSn",
        "outputId": "a0e0fe65-0f6e-4922-877f-c801352c7979"
      },
      "execution_count": null,
      "outputs": [
        {
          "output_type": "execute_result",
          "data": {
            "text/plain": [
              "LinearRegression()"
            ]
          },
          "metadata": {},
          "execution_count": 17
        }
      ]
    },
    {
      "cell_type": "code",
      "source": [
        "y_pred = mul_lr.predict(X_test)\n",
        "print('다중 선현 회귀, R2: {:.4f}'.format(r2_score(y_test, y_pred)))"
      ],
      "metadata": {
        "colab": {
          "base_uri": "https://localhost:8080/"
        },
        "id": "MIrk-_c6MjZp",
        "outputId": "2a746bed-ca76-4aa5-d518-1df66dfe90e4"
      },
      "execution_count": null,
      "outputs": [
        {
          "output_type": "stream",
          "name": "stdout",
          "text": [
            "다중 선현 회귀, R2: 0.6226\n"
          ]
        }
      ]
    },
    {
      "cell_type": "markdown",
      "source": [
        "### Decision Tree Regressor"
      ],
      "metadata": {
        "id": "KaILGQbqOL3u"
      }
    },
    {
      "cell_type": "code",
      "source": [
        "from sklearn.tree import DecisionTreeRegressor\n",
        "dt_regr = DecisionTreeRegressor(max_depth = 5)"
      ],
      "metadata": {
        "id": "42LP3qkXNc_h"
      },
      "execution_count": null,
      "outputs": []
    },
    {
      "cell_type": "markdown",
      "source": [
        "트리가 몇 단계까지 내려갈지 max_depth를 통하여 설정한다  \n",
        "실제로 코딩하면 재귀호출 형태를 띈다."
      ],
      "metadata": {
        "id": "IVUg2lwWOoU9"
      }
    },
    {
      "cell_type": "code",
      "source": [
        "dt_regr.fit(X_train['RM'].values.reshape((-1,1)), y_train)"
      ],
      "metadata": {
        "colab": {
          "base_uri": "https://localhost:8080/"
        },
        "id": "xFRdhOaEOsdI",
        "outputId": "a0592b56-2cf8-41ec-feb5-ef875bc92470"
      },
      "execution_count": null,
      "outputs": [
        {
          "output_type": "execute_result",
          "data": {
            "text/plain": [
              "DecisionTreeRegressor(max_depth=5)"
            ]
          },
          "metadata": {},
          "execution_count": 20
        }
      ]
    },
    {
      "cell_type": "code",
      "source": [
        "y_pred = dt_regr.predict(X_test['RM'].values.reshape(-1,1))"
      ],
      "metadata": {
        "id": "DDXKvcaUPCLZ"
      },
      "execution_count": null,
      "outputs": []
    },
    {
      "cell_type": "code",
      "source": [
        "print('단순 결정 트리 회귀 R2: {:.4f}'.format(r2_score(y_test, y_pred)))"
      ],
      "metadata": {
        "colab": {
          "base_uri": "https://localhost:8080/"
        },
        "id": "_mINQhaEP4Hv",
        "outputId": "22f80029-0127-4eeb-a0ca-0aaefead294a"
      },
      "execution_count": null,
      "outputs": [
        {
          "output_type": "stream",
          "name": "stdout",
          "text": [
            "단순 결정 트리 회귀 R2: 0.3247\n"
          ]
        }
      ]
    },
    {
      "cell_type": "markdown",
      "source": [
        "단계를 4로 하면 0.3474\n",
        "단계를 7로 하면 0.3164\n",
        "\n",
        "오버피팅 현상이 발생한다."
      ],
      "metadata": {
        "id": "eMtbay6jQL-K"
      }
    }
  ]
}