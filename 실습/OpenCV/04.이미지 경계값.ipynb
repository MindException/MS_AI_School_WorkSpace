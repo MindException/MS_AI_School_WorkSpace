{
 "cells": [
  {
   "cell_type": "markdown",
   "id": "d1ae9fe5",
   "metadata": {},
   "source": [
    "### 라이브러리 추가"
   ]
  },
  {
   "cell_type": "code",
   "execution_count": 1,
   "id": "05894187",
   "metadata": {},
   "outputs": [],
   "source": [
    "import cv2\n",
    "import numpy as np\n",
    "import matplotlib.pyplot as plt\n",
    "\n",
    "def image_show(image):\n",
    "    cv2.imshow(\"show\", image)\n",
    "    cv2.waitKey(0)"
   ]
  },
  {
   "cell_type": "markdown",
   "id": "00735ff6",
   "metadata": {},
   "source": [
    "### 이미지 배경 삭제"
   ]
  },
  {
   "cell_type": "code",
   "execution_count": 3,
   "id": "77fff552",
   "metadata": {},
   "outputs": [
    {
     "name": "stdout",
     "output_type": "stream",
     "text": [
      "(500, 500, 3)\n"
     ]
    }
   ],
   "source": [
    "# 배경 제거\n",
    "image_path = \"./img/test.jpg\"\n",
    "\n",
    "# 이미지 읽기\n",
    "image = cv2.imread(image_path)\n",
    "print(image.shape)\n",
    "\n",
    "# 사각형 좌표 : 사각점의 x y  넓이 높이\n",
    "rectangle = (0, 0, 400, 400)\n",
    "\n",
    "# 초기 마스크 생성\n",
    "mask = np.zeros(image.shape[:2], np.uint8)\n",
    "\n",
    "# grabCut 에 사용할 임시 배열 생성\n",
    "bgdModel = np.zeros((1, 65), np.float64)\n",
    "fgdModel = np.zeros((1, 65), np.float64)\n",
    "\n",
    "# grabCut 실행\n",
    "# image -> 원본 이미지 , bgdModel -> 배경을 위한 임시 배열 fgdModel-> 전경배경 ,\n",
    "# 5- > 반복횟수 cv2.GC_INIT_WITH_RECT -> 사각형 초기화\n",
    "cv2.grabCut(image, mask, rectangle, bgdModel,\n",
    "            fgdModel, 5, cv2.GC_INIT_WITH_RECT)\n",
    "\n",
    "# 배경인 곳은 0 그 외에는 1로 설정한 마스크 생성\n",
    "mask_2 = np.where((mask == 2) | (mask == 0), 0, 1).astype('uint8')\n",
    "\n",
    "# 이미지에 새로운 마스크 곱해서 -> 배경 제외\n",
    "image_rgb_nobg = image * mask_2[:, :, np.newaxis]\n",
    "image_show(image_rgb_nobg)"
   ]
  },
  {
   "cell_type": "markdown",
   "id": "64a4b0fa",
   "metadata": {},
   "source": [
    "### 경계선 감지 Canny"
   ]
  },
  {
   "cell_type": "code",
   "execution_count": 6,
   "id": "d5567d2a",
   "metadata": {},
   "outputs": [],
   "source": [
    "# 이미지 읽기\n",
    "image = cv2.imread('./img/test.jpg')\n",
    "\n",
    "# 경계선 찾기\n",
    "image_gray = cv2.imread('./img/test.jpg', cv2.IMREAD_GRAYSCALE)\n",
    "\n",
    "# 픽셀 강도의 중간값을 계산\n",
    "mdeian_intensity = np.median(image_gray)\n",
    "\n",
    "# 중간 픽셀 강도에서 위아래 1표준편차 떨어진 값을 임계값으로 설정\n",
    "lower_threshold = int(max(0, (1.0 - 0.33) * mdeian_intensity))\n",
    "upper_threshold = int(min(255,  (1.0 + 0.33) * mdeian_intensity))\n",
    "\n",
    "# Canny edge Detection 적용\n",
    "image_canny = cv2.Canny(image_gray, lower_threshold, upper_threshold)\n",
    "image_show(image_canny)"
   ]
  },
  {
   "cell_type": "markdown",
   "id": "1c86e10e",
   "metadata": {},
   "source": [
    "### 모서리 감지"
   ]
  },
  {
   "cell_type": "code",
   "execution_count": 9,
   "id": "0479b656",
   "metadata": {},
   "outputs": [
    {
     "name": "stdout",
     "output_type": "stream",
     "text": [
      "[[-2.0249998e+07 -2.0249998e+07 -2.0249998e+07 ... -2.0191709e+09\n",
      "  -2.0191709e+09 -2.0191709e+09]\n",
      " [-2.0249998e+07 -2.0249998e+07 -2.0249998e+07 ... -2.0191709e+09\n",
      "  -2.0191709e+09 -2.0191709e+09]\n",
      " [-2.0249998e+07 -2.0249998e+07 -2.0249998e+07 ... -2.0191709e+09\n",
      "  -2.0191709e+09 -2.0191709e+09]\n",
      " ...\n",
      " [-2.0249998e+07 -2.0249998e+07 -2.0249998e+07 ... -2.0191709e+09\n",
      "  -2.0191709e+09 -2.0191709e+09]\n",
      " [-2.0249998e+07 -2.0249998e+07 -2.0249998e+07 ... -2.0191709e+09\n",
      "  -2.0191709e+09 -2.0191709e+09]\n",
      " [-2.0249998e+07 -2.0249998e+07 -2.0249998e+07 ... -2.0191709e+09\n",
      "  -2.0191711e+09 -2.0191711e+09]]\n"
     ]
    }
   ],
   "source": [
    "# 모서리 감지\n",
    "image_path = \"./img/test01.png\"\n",
    "\n",
    "image_read = cv2.imread(image_path)\n",
    "\n",
    "image_gray = cv2.cvtColor(image_read, cv2.COLOR_BGR2GRAY)\n",
    "image_gray = np.float32(image_gray)\n",
    "\n",
    "block_size = 2  # 모서리 감지 매개 변수 설정\n",
    "aperture = 29\n",
    "free_parameter = 0.04\n",
    "\n",
    "detector_response = cv2.cornerHarris(\n",
    "    image_gray, block_size, aperture, free_parameter)\n",
    "\n",
    "print(detector_response)\n",
    "\n",
    "threshold = 0.02\n",
    "image_read[detector_response > threshold *\n",
    "           detector_response.max()] = [255, 255, 255]\n",
    "\n",
    "image_gray = cv2.cvtColor(image_read, cv2.COLOR_BGR2GRAY)\n",
    "image_show(image_gray)"
   ]
  },
  {
   "cell_type": "markdown",
   "id": "eeed6618",
   "metadata": {},
   "source": [
    "### 꼭짓점 찾기"
   ]
  },
  {
   "cell_type": "code",
   "execution_count": 10,
   "id": "cc1025bd",
   "metadata": {},
   "outputs": [],
   "source": [
    "image_path = \"./img/test01.png\"\n",
    "image_read = cv2.imread(image_path)\n",
    "image_gray = cv2.cvtColor(image_read, cv2.COLOR_BGR2GRAY)\n",
    "\n",
    "# 감지할 모서리 개수\n",
    "corners_to_detect = 4\n",
    "minimum_quality_score = 0.05\n",
    "mininum_distance = 25\n",
    "\n",
    "# 모서리 감지\n",
    "corners = cv2.goodFeaturesToTrack(\n",
    "    image_gray, corners_to_detect, minimum_quality_score, mininum_distance)\n",
    "\n",
    "for corner in corners:\n",
    "    x, y = corner[0]\n",
    "    cv2.circle(image_read, (int(x), int(y)), 10, (0, 255, 0), -1)\n",
    "\n",
    "image_gray_temp = cv2.cvtColor(image_read, cv2.COLOR_BGR2GRAY)\n",
    "image_show(image_gray_temp)"
   ]
  }
 ],
 "metadata": {
  "kernelspec": {
   "display_name": "Python 3 (ipykernel)",
   "language": "python",
   "name": "python3"
  },
  "language_info": {
   "codemirror_mode": {
    "name": "ipython",
    "version": 3
   },
   "file_extension": ".py",
   "mimetype": "text/x-python",
   "name": "python",
   "nbconvert_exporter": "python",
   "pygments_lexer": "ipython3",
   "version": "3.9.7"
  }
 },
 "nbformat": 4,
 "nbformat_minor": 5
}
