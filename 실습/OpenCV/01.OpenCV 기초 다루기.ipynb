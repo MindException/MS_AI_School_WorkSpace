{
 "cells": [
  {
   "cell_type": "markdown",
   "id": "34977b94",
   "metadata": {},
   "source": [
    "## 이미지 불러오기\n",
    "\n",
    "### 기본"
   ]
  },
  {
   "cell_type": "code",
   "execution_count": 1,
   "id": "f3947cda",
   "metadata": {},
   "outputs": [],
   "source": [
    "import cv2"
   ]
  },
  {
   "cell_type": "code",
   "execution_count": 2,
   "id": "7b218734",
   "metadata": {},
   "outputs": [
    {
     "name": "stdout",
     "output_type": "stream",
     "text": [
      "이미지 타입 :  <class 'numpy.ndarray'>\n",
      "이미지 높이 399, 이미지 넓이 600\n"
     ]
    }
   ],
   "source": [
    "img_path = \"./img/cat.jpg\"\n",
    "img = cv2.imread(img_path)\n",
    "\n",
    "h, w, _ = img.shape\n",
    "\n",
    "print(\"이미지 타입 : \", type(img))\n",
    "print(f\"이미지 높이 {h}, 이미지 넓이 {w}\")"
   ]
  },
  {
   "cell_type": "code",
   "execution_count": 4,
   "id": "0a91cb43",
   "metadata": {},
   "outputs": [
    {
     "data": {
      "text/plain": [
       "-1"
      ]
     },
     "execution_count": 4,
     "metadata": {},
     "output_type": "execute_result"
    }
   ],
   "source": [
    "cv2.imshow(\"image show\", img)\n",
    "cv2.waitKey(0)"
   ]
  },
  {
   "cell_type": "markdown",
   "id": "f11cae5f",
   "metadata": {},
   "source": [
    "### 흑백 전환 및 여러 파일 압축"
   ]
  },
  {
   "cell_type": "code",
   "execution_count": 5,
   "id": "503bdcf0",
   "metadata": {},
   "outputs": [],
   "source": [
    "import numpy as np"
   ]
  },
  {
   "cell_type": "code",
   "execution_count": 7,
   "id": "63080f29",
   "metadata": {},
   "outputs": [],
   "source": [
    "# 이미지 경로\n",
    "x = cv2.imread(\"./img/cat.jpg\", 0)  # 흑백 이미지\n",
    "y = cv2.imread(\"./img/cat.jpg\", 1)  # 컬러 이미지\n",
    "\n",
    "# 여러개 파일 save .npz\n",
    "np.savez(\"./image.npz\", array1=x, array2=y)\n",
    "\n",
    "# 압축 방법\n",
    "np.savez_compressed(\"./image_compressed.npz\", array1=x, array2=y)\n",
    "\n",
    "# npz 데이터 로드\n",
    "data = np.load(\"./image_compressed.npz\")\n",
    "\n",
    "result1 = data['array1']\n",
    "result2 = data['array2']"
   ]
  },
  {
   "cell_type": "code",
   "execution_count": 8,
   "id": "d9d3b00a",
   "metadata": {},
   "outputs": [
    {
     "data": {
      "text/plain": [
       "-1"
      ]
     },
     "execution_count": 8,
     "metadata": {},
     "output_type": "execute_result"
    }
   ],
   "source": [
    "cv2.imshow(\"result01\", result1)\n",
    "cv2.waitKey(0)"
   ]
  },
  {
   "cell_type": "markdown",
   "id": "705fc011",
   "metadata": {},
   "source": [
    "### 이미지 리사이즈"
   ]
  },
  {
   "cell_type": "code",
   "execution_count": 25,
   "id": "efde4a54",
   "metadata": {},
   "outputs": [],
   "source": [
    "def image_show(image):\n",
    "    cv2.imshow(\"show\", image)\n",
    "    cv2.waitKey(0)\n",
    "\n",
    "image_path = \"./img/cat.jpg\"\n",
    "\n",
    "# 이미지 읽기\n",
    "image = cv2.imread(image_path)\n",
    "\n",
    "# 이미지 크롭 [시작 : 끝 : 단계]\n",
    "image_crop = image[50:350, 100:400] #[y축, x축]\n",
    "\n",
    "# 저장코드 추가 png 파일 저장\n",
    "image_show(image_crop)"
   ]
  },
  {
   "cell_type": "markdown",
   "id": "1e23470d",
   "metadata": {},
   "source": [
    "## 이미지 blur 효과"
   ]
  },
  {
   "cell_type": "code",
   "execution_count": 27,
   "id": "9e44a737",
   "metadata": {},
   "outputs": [],
   "source": [
    "def imshow(image):\n",
    "    cv2.imshow(\"show\", image)\n",
    "    cv2.waitKey(0)\n",
    "\n",
    "\n",
    "image_path = \"./img/cat.jpg\"\n",
    "\n",
    "# 이미지 읽기\n",
    "image = cv2.imread(image_path)\n",
    "\n",
    "# 이미지 블러\n",
    "image_blury = cv2.blur(image, (7, 7))\n",
    "imshow(image_blury)"
   ]
  }
 ],
 "metadata": {
  "kernelspec": {
   "display_name": "Python 3 (ipykernel)",
   "language": "python",
   "name": "python3"
  },
  "language_info": {
   "codemirror_mode": {
    "name": "ipython",
    "version": 3
   },
   "file_extension": ".py",
   "mimetype": "text/x-python",
   "name": "python",
   "nbconvert_exporter": "python",
   "pygments_lexer": "ipython3",
   "version": "3.9.7"
  }
 },
 "nbformat": 4,
 "nbformat_minor": 5
}
