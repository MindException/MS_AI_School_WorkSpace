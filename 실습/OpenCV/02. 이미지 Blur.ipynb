{
 "cells": [
  {
   "cell_type": "markdown",
   "id": "6e60d335",
   "metadata": {},
   "source": [
    "### 라이브러리 추가"
   ]
  },
  {
   "cell_type": "code",
   "execution_count": 5,
   "id": "7eab606b",
   "metadata": {
    "scrolled": true
   },
   "outputs": [],
   "source": [
    "import cv2\n",
    "import numpy as np\n",
    "\n",
    "def image_show(image):\n",
    "    cv2.imshow(\"show\", image)\n",
    "    cv2.waitKey(0)"
   ]
  },
  {
   "cell_type": "markdown",
   "id": "e8feca77",
   "metadata": {},
   "source": [
    "### filter2D를 사용한 blur"
   ]
  },
  {
   "cell_type": "code",
   "execution_count": 7,
   "id": "67a02b7e",
   "metadata": {},
   "outputs": [],
   "source": [
    "# 이미지 경로\n",
    "image_path = \"./img/cat.jpg\"\n",
    "\n",
    "# 이미지 읽기 처리\n",
    "image = cv2.imread(image_path)\n",
    "\n",
    "# 커널 생성 처리\n",
    "kernel = np.ones((10, 10)) / 25.0  # 모두 더하면 1이 되도록 정규화\n",
    "image_kernel = cv2.filter2D(image, -1, kernel)\n",
    "# image_show(image_kernel)\n",
    "\n",
    "image_show(image_kernel)"
   ]
  },
  {
   "cell_type": "markdown",
   "id": "b26f57df",
   "metadata": {},
   "source": [
    "### 가우시안 블러"
   ]
  },
  {
   "cell_type": "code",
   "execution_count": 10,
   "id": "90bfc446",
   "metadata": {},
   "outputs": [],
   "source": [
    "image_path = \"./img/cat.jpg\"\n",
    "\n",
    "# 이미지 읽기\n",
    "image = cv2.imread(image_path)\n",
    "\n",
    "image_g_blury = cv2.GaussianBlur(image, (5, 5), 0)\n",
    "image_show(image_g_blury)"
   ]
  },
  {
   "cell_type": "code",
   "execution_count": null,
   "id": "34a4d75d",
   "metadata": {},
   "outputs": [],
   "source": []
  },
  {
   "cell_type": "code",
   "execution_count": null,
   "id": "48e8591f",
   "metadata": {},
   "outputs": [],
   "source": []
  },
  {
   "cell_type": "code",
   "execution_count": null,
   "id": "84da7def",
   "metadata": {},
   "outputs": [],
   "source": []
  }
 ],
 "metadata": {
  "kernelspec": {
   "display_name": "Python 3 (ipykernel)",
   "language": "python",
   "name": "python3"
  },
  "language_info": {
   "codemirror_mode": {
    "name": "ipython",
    "version": 3
   },
   "file_extension": ".py",
   "mimetype": "text/x-python",
   "name": "python",
   "nbconvert_exporter": "python",
   "pygments_lexer": "ipython3",
   "version": "3.9.7"
  }
 },
 "nbformat": 4,
 "nbformat_minor": 5
}
