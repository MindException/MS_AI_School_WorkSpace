{
 "cells": [
  {
   "cell_type": "markdown",
   "id": "d8c6cff7",
   "metadata": {},
   "source": [
    "### 라이브러리 추가"
   ]
  },
  {
   "cell_type": "code",
   "execution_count": 1,
   "id": "6356da7b",
   "metadata": {},
   "outputs": [],
   "source": [
    "import cv2\n",
    "import numpy as np\n",
    "import matplotlib.pyplot as plt\n",
    "\n",
    "def image_show(image):\n",
    "    cv2.imshow(\"show\", image)\n",
    "    cv2.waitKey(0)"
   ]
  },
  {
   "cell_type": "markdown",
   "id": "7867a760",
   "metadata": {},
   "source": [
    "### 흑백 이미지 선명화 - blur"
   ]
  },
  {
   "cell_type": "code",
   "execution_count": 3,
   "id": "d0c91024",
   "metadata": {},
   "outputs": [
    {
     "name": "stdout",
     "output_type": "stream",
     "text": [
      "(640, 960)\n"
     ]
    },
    {
     "data": {
      "text/plain": [
       "-1"
      ]
     },
     "execution_count": 3,
     "metadata": {},
     "output_type": "execute_result"
    }
   ],
   "source": [
    "img = cv2.imread('./img/car.jpg', 0)\n",
    "print(img.shape)\n",
    "img_rsize = cv2.resize(img, (320, 240))\n",
    "\n",
    "blurred_1 = np.hstack([\n",
    "    cv2.blur(img_rsize, (3, 3)),\n",
    "    cv2.blur(img_rsize, (5, 5)),\n",
    "    cv2.blur(img_rsize, (9, 9))\n",
    "])\n",
    "\n",
    "cv2.imshow(\"show\", blurred_1)\n",
    "cv2.waitKey(0)"
   ]
  },
  {
   "cell_type": "markdown",
   "id": "993d87dc",
   "metadata": {},
   "source": [
    "### 흑백 이미지 선명화 - 가우시안 필터"
   ]
  },
  {
   "cell_type": "code",
   "execution_count": 5,
   "id": "e4720420",
   "metadata": {},
   "outputs": [
    {
     "name": "stdout",
     "output_type": "stream",
     "text": [
      "(640, 960)\n"
     ]
    },
    {
     "data": {
      "text/plain": [
       "True"
      ]
     },
     "execution_count": 5,
     "metadata": {},
     "output_type": "execute_result"
    }
   ],
   "source": [
    "img = cv2.imread('./img/car.jpg', 0)\n",
    "print(img.shape)\n",
    "img_rsize = cv2.resize(img, (320, 240))\n",
    "\n",
    "Gaussian_blurred_1 = np.hstack([\n",
    "    cv2.GaussianBlur(img_rsize, (3, 3), 0),\n",
    "    cv2.GaussianBlur(img_rsize, (5, 5), 0),\n",
    "    cv2.GaussianBlur(img_rsize, (9, 9), 0),\n",
    "])\n",
    "image_show(Gaussian_blurred_1)\n",
    "cv2.imwrite(\"gaussian_blur.png\", Gaussian_blurred_1)"
   ]
  },
  {
   "cell_type": "markdown",
   "id": "37188f12",
   "metadata": {},
   "source": [
    "### 이미지 선명화"
   ]
  },
  {
   "cell_type": "code",
   "execution_count": 7,
   "id": "351be315",
   "metadata": {},
   "outputs": [
    {
     "data": {
      "text/plain": [
       "-1"
      ]
     },
     "execution_count": 7,
     "metadata": {},
     "output_type": "execute_result"
    }
   ],
   "source": [
    "image = cv2.imread('./img/car.jpg')\n",
    "\n",
    "# Creating out sharpening filter\n",
    "filter = np.array([[-1, -1, -1], [-1, 9, -1], [-1, -1, -1]])\n",
    "\n",
    "sharpen_img = cv2.filter2D(image, -1, filter)\n",
    "cv2.imshow(\"org image \", image)\n",
    "cv2.imshow(\"Filtering image\", sharpen_img)\n",
    "cv2.waitKey(0)"
   ]
  },
  {
   "cell_type": "markdown",
   "id": "bec78a22",
   "metadata": {},
   "source": [
    "### Maxican hat 필터"
   ]
  },
  {
   "cell_type": "code",
   "execution_count": 12,
   "id": "c7db7f18",
   "metadata": {},
   "outputs": [],
   "source": [
    "image = cv2.imread('./img/car.jpg')\n",
    "\n",
    "# creating maxican hat filter for\n",
    "# 5x5\n",
    "# filter = np.array([[0, 0, -1, 0, 0], [0, -1, -2, -1, 0],\n",
    "#                   [-1, -2, 16, -2, -1], [0, -1, -2, -1, 0],\n",
    "#                   [0, 0, -1, 0, 0]])\n",
    "\n",
    "# 3x3\n",
    "filter = np.array([[-1, -1, -1], [-1, 8, -1], [-1, -1, -1]])\n",
    "mexican_hat_image = cv2.filter2D(image, -1, filter)\n",
    "image_show(mexican_hat_image)"
   ]
  },
  {
   "cell_type": "markdown",
   "id": "278f7912",
   "metadata": {},
   "source": [
    "### 커스텀 필터"
   ]
  },
  {
   "cell_type": "code",
   "execution_count": 13,
   "id": "40d1aa44",
   "metadata": {},
   "outputs": [],
   "source": [
    "image = cv2.imread('./img/car.jpg')\n",
    "\n",
    "filter = np.array([[3, -2, -3], [-4, 8, -6], [5, -1, -0]])\n",
    "custom_image_filter = cv2.filter2D(image, -1, filter)\n",
    "\n",
    "image_show(custom_image_filter)"
   ]
  },
  {
   "cell_type": "markdown",
   "id": "1852ca61",
   "metadata": {},
   "source": [
    "### 세피아 효과 필터"
   ]
  },
  {
   "cell_type": "code",
   "execution_count": 14,
   "id": "a9afa1ad",
   "metadata": {},
   "outputs": [],
   "source": [
    "img_path = \"./img/car.jpg\"\n",
    "img = cv2.imread(img_path)\n",
    "\n",
    "# 세피아 효과 필터\n",
    "filter = np.array([[0.272, 0.534, 0.131],\n",
    "                   [0.349, 0.686, 0.168],\n",
    "                   [0.393, 0.769, 0.189]])\n",
    "\n",
    "sepia_img = cv2.transform(img, filter)\n",
    "image_show(sepia_img)"
   ]
  },
  {
   "cell_type": "markdown",
   "id": "bbd585eb",
   "metadata": {},
   "source": [
    "### 엠보싱 효과 필터1"
   ]
  },
  {
   "cell_type": "code",
   "execution_count": 19,
   "id": "9cbcf4f8",
   "metadata": {},
   "outputs": [],
   "source": [
    "image_path = \"./img/car.jpg\"\n",
    "img = cv2.imread(image_path)\n",
    "\n",
    "# 엠보싱 효과\n",
    "filter1 = np.array([[0, 1, 0], \n",
    "                    [0, 0, 0], \n",
    "                    [0, -1, 0]])\n",
    "\n",
    "emboss_img = cv2.filter2D(img, -1, filter1)\n",
    "emboss_img = emboss_img + 128\n",
    "image_show(emboss_img)"
   ]
  },
  {
   "cell_type": "markdown",
   "id": "cf8016cb",
   "metadata": {},
   "source": [
    "### 엠보싱 효과 필터2"
   ]
  },
  {
   "cell_type": "code",
   "execution_count": 20,
   "id": "b5efdbb4",
   "metadata": {},
   "outputs": [],
   "source": [
    "image_path = \"./img/car.jpg\"\n",
    "img = cv2.imread(image_path)\n",
    "\n",
    "# 엠보싱 효과\n",
    "filter2 = np.array([[-1, -1, 0], \n",
    "                    [-1, 0, 1], \n",
    "                    [0, 1, 1]])\n",
    "\n",
    "emboss_img = cv2.filter2D(img, -1, filter2)\n",
    "emboss_img = emboss_img + 128\n",
    "image_show(emboss_img)"
   ]
  }
 ],
 "metadata": {
  "kernelspec": {
   "display_name": "Python 3 (ipykernel)",
   "language": "python",
   "name": "python3"
  },
  "language_info": {
   "codemirror_mode": {
    "name": "ipython",
    "version": 3
   },
   "file_extension": ".py",
   "mimetype": "text/x-python",
   "name": "python",
   "nbconvert_exporter": "python",
   "pygments_lexer": "ipython3",
   "version": "3.9.7"
  }
 },
 "nbformat": 4,
 "nbformat_minor": 5
}
