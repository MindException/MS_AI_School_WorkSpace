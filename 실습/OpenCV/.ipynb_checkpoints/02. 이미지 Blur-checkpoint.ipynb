{
 "cells": [
  {
   "cell_type": "markdown",
   "id": "28723ddb",
   "metadata": {},
   "source": [
    "### 라이브러리 추가"
   ]
  },
  {
   "cell_type": "code",
   "execution_count": 5,
   "id": "c17e8578",
   "metadata": {
    "scrolled": true
   },
   "outputs": [],
   "source": [
    "import cv2\n",
    "import numpy as np\n",
    "\n",
    "def image_show(image):\n",
    "    cv2.imshow(\"show\", image)\n",
    "    cv2.waitKey(0)"
   ]
  },
  {
   "cell_type": "markdown",
   "id": "fb894499",
   "metadata": {},
   "source": [
    "### filter2D를 사용한 blur"
   ]
  },
  {
   "cell_type": "code",
   "execution_count": 6,
   "id": "9360e3d5",
   "metadata": {},
   "outputs": [],
   "source": [
    "# 이미지 경로\n",
    "image_path = \"./img/cat.jpg\"\n",
    "\n",
    "# 이미지 읽기 처리\n",
    "image = cv2.imread(image_path)\n",
    "\n",
    "# 커널 생성 처리\n",
    "kernel = np.ones((10, 10)) / 25.0  # 모두 더하면 1이 되도록 정규화\n",
    "image_kernel = cv2.filter2D(image, -1, kernel)\n",
    "# image_show(image_kernel)\n",
    "\n",
    "image_show(image_kernel)"
   ]
  },
  {
   "cell_type": "code",
   "execution_count": null,
   "id": "49cd03ea",
   "metadata": {},
   "outputs": [],
   "source": []
  },
  {
   "cell_type": "code",
   "execution_count": null,
   "id": "af1521c7",
   "metadata": {},
   "outputs": [],
   "source": []
  },
  {
   "cell_type": "code",
   "execution_count": null,
   "id": "4044b63f",
   "metadata": {},
   "outputs": [],
   "source": []
  },
  {
   "cell_type": "code",
   "execution_count": null,
   "id": "c2eb4289",
   "metadata": {},
   "outputs": [],
   "source": []
  },
  {
   "cell_type": "code",
   "execution_count": null,
   "id": "06aa32ff",
   "metadata": {},
   "outputs": [],
   "source": []
  }
 ],
 "metadata": {
  "kernelspec": {
   "display_name": "Python 3 (ipykernel)",
   "language": "python",
   "name": "python3"
  },
  "language_info": {
   "codemirror_mode": {
    "name": "ipython",
    "version": 3
   },
   "file_extension": ".py",
   "mimetype": "text/x-python",
   "name": "python",
   "nbconvert_exporter": "python",
   "pygments_lexer": "ipython3",
   "version": "3.9.7"
  }
 },
 "nbformat": 4,
 "nbformat_minor": 5
}
