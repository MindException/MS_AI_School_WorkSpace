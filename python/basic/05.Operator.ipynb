{
 "cells": [
  {
   "cell_type": "code",
   "execution_count": 1,
   "id": "cd8c3a28",
   "metadata": {},
   "outputs": [
    {
     "name": "stdout",
     "output_type": "stream",
     "text": [
      "30\n",
      "-10\n",
      "200\n",
      "0.5\n"
     ]
    }
   ],
   "source": [
    "#기본 연산\n",
    "print(10 + 20)\n",
    "print(10 - 20)\n",
    "print(10 * 20)\n",
    "print(10 / 20)"
   ]
  },
  {
   "cell_type": "code",
   "execution_count": 2,
   "id": "3eb38198",
   "metadata": {},
   "outputs": [
    {
     "name": "stdout",
     "output_type": "stream",
     "text": [
      "100\n",
      "1000\n",
      "10000\n"
     ]
    }
   ],
   "source": [
    "# 제곱 연산\n",
    "print(10**2)\n",
    "print(10**3)\n",
    "print(10**4)"
   ]
  },
  {
   "cell_type": "code",
   "execution_count": 4,
   "id": "536cde1e",
   "metadata": {},
   "outputs": [
    {
     "name": "stdout",
     "output_type": "stream",
     "text": [
      "6\n",
      "4\n"
     ]
    }
   ],
   "source": [
    "print(40//6)  # 몫\n",
    "print(40%6)   # 나머지"
   ]
  },
  {
   "cell_type": "code",
   "execution_count": 10,
   "id": "417e4cfe",
   "metadata": {},
   "outputs": [
    {
     "name": "stdout",
     "output_type": "stream",
     "text": [
      "0\n",
      "1\n",
      "1\n",
      "True\n",
      "0\n",
      "0\n",
      "1\n",
      "True\n",
      "False\n"
     ]
    }
   ],
   "source": [
    "print(0 or 0)\n",
    "print(0 or 1)\n",
    "print(1 or 1)\n",
    "print(False or True)\n",
    "\n",
    "print(0 and 0)\n",
    "print(0 and 1)\n",
    "print(1 and 1)\n",
    "print(True and True)\n",
    "\n",
    "print(not True)"
   ]
  },
  {
   "cell_type": "code",
   "execution_count": 11,
   "id": "270f28a9",
   "metadata": {},
   "outputs": [],
   "source": [
    "# in 연산자\n",
    "\n",
    "a_list = ['a', 2, 'hell', 3]"
   ]
  },
  {
   "cell_type": "code",
   "execution_count": 12,
   "id": "67b22694",
   "metadata": {},
   "outputs": [
    {
     "name": "stdout",
     "output_type": "stream",
     "text": [
      "True\n"
     ]
    }
   ],
   "source": [
    "print('a' in a_list)     #안에 값이 있는지 없는지 찾아주는 것이 in 연산자이다."
   ]
  },
  {
   "cell_type": "code",
   "execution_count": null,
   "id": "8c3910ac",
   "metadata": {},
   "outputs": [],
   "source": []
  }
 ],
 "metadata": {
  "kernelspec": {
   "display_name": "Python 3 (ipykernel)",
   "language": "python",
   "name": "python3"
  },
  "language_info": {
   "codemirror_mode": {
    "name": "ipython",
    "version": 3
   },
   "file_extension": ".py",
   "mimetype": "text/x-python",
   "name": "python",
   "nbconvert_exporter": "python",
   "pygments_lexer": "ipython3",
   "version": "3.9.7"
  }
 },
 "nbformat": 4,
 "nbformat_minor": 5
}
