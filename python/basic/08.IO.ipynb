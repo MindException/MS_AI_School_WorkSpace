{
 "cells": [
  {
   "cell_type": "code",
   "execution_count": 1,
   "id": "b9253e7b",
   "metadata": {},
   "outputs": [],
   "source": [
    "import sys"
   ]
  },
  {
   "cell_type": "code",
   "execution_count": 2,
   "id": "63aa090a",
   "metadata": {},
   "outputs": [
    {
     "name": "stderr",
     "output_type": "stream",
     "text": [
      "Welcome to Python\n"
     ]
    }
   ],
   "source": [
    "print('Welcome to', 'Python', file = sys.stderr)  #시스템을 표준에러로 출력시 빨간색으로 표기됨"
   ]
  },
  {
   "cell_type": "code",
   "execution_count": 4,
   "id": "824a3484",
   "metadata": {},
   "outputs": [],
   "source": [
    "f = open('test.txt', \"w\")"
   ]
  },
  {
   "cell_type": "code",
   "execution_count": 5,
   "id": "1a73d07f",
   "metadata": {},
   "outputs": [],
   "source": [
    "print('file write', file = f)\n",
    "f.close()   #파일은 다 쓰고 꼭 닫아줘야 한다. 그렇지 않으면 파일이 나중에 깨져있다."
   ]
  },
  {
   "cell_type": "markdown",
   "id": "db62d749",
   "metadata": {},
   "source": [
    "## File IO\n",
    "file 입출력을 다루다 보면 print를 사용 할 수도 있지만 open을 사용하는게 좋다."
   ]
  },
  {
   "cell_type": "code",
   "execution_count": 6,
   "id": "9a7201b8",
   "metadata": {},
   "outputs": [],
   "source": [
    "f = open('test.txt', 'w')\n",
    "f.write('plow deep\\nwhile sluggards sleep')\n",
    "f.close()"
   ]
  },
  {
   "cell_type": "code",
   "execution_count": 9,
   "id": "d8718775",
   "metadata": {},
   "outputs": [
    {
     "name": "stdout",
     "output_type": "stream",
     "text": [
      "plow deep\n",
      "while sluggards sleep\n"
     ]
    }
   ],
   "source": [
    "f = open('test.txt', 'r')\n",
    "print(f.read())\n",
    "f.close()"
   ]
  }
 ],
 "metadata": {
  "kernelspec": {
   "display_name": "Python 3 (ipykernel)",
   "language": "python",
   "name": "python3"
  },
  "language_info": {
   "codemirror_mode": {
    "name": "ipython",
    "version": 3
   },
   "file_extension": ".py",
   "mimetype": "text/x-python",
   "name": "python",
   "nbconvert_exporter": "python",
   "pygments_lexer": "ipython3",
   "version": "3.9.7"
  }
 },
 "nbformat": 4,
 "nbformat_minor": 5
}
