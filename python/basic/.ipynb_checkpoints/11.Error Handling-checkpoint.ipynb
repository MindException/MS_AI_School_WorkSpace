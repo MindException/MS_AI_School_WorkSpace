{
 "cells": [
  {
   "cell_type": "code",
   "execution_count": 1,
   "id": "d4257c18",
   "metadata": {},
   "outputs": [
    {
     "ename": "ZeroDivisionError",
     "evalue": "division by zero",
     "output_type": "error",
     "traceback": [
      "\u001b[1;31m---------------------------------------------------------------------------\u001b[0m",
      "\u001b[1;31mZeroDivisionError\u001b[0m                         Traceback (most recent call last)",
      "\u001b[1;32m~\\AppData\\Local\\Temp/ipykernel_7356/2591360718.py\u001b[0m in \u001b[0;36m<module>\u001b[1;34m\u001b[0m\n\u001b[1;32m----> 1\u001b[1;33m \u001b[0ma\u001b[0m \u001b[1;33m=\u001b[0m \u001b[1;36m12\u001b[0m \u001b[1;33m/\u001b[0m \u001b[1;36m0\u001b[0m\u001b[1;33m\u001b[0m\u001b[1;33m\u001b[0m\u001b[0m\n\u001b[0m",
      "\u001b[1;31mZeroDivisionError\u001b[0m: division by zero"
     ]
    }
   ],
   "source": [
    "a = 12 / 0"
   ]
  },
  {
   "cell_type": "code",
   "execution_count": 3,
   "id": "bb27fc3b",
   "metadata": {},
   "outputs": [
    {
     "name": "stdout",
     "output_type": "stream",
     "text": [
      "Error!!!\n"
     ]
    }
   ],
   "source": [
    "try:\n",
    "    a = 12 / 0\n",
    "except:\n",
    "    print('Error!!!')"
   ]
  },
  {
   "cell_type": "code",
   "execution_count": 4,
   "id": "08e851a5",
   "metadata": {},
   "outputs": [],
   "source": [
    "try:\n",
    "    a = 12 / 0\n",
    "except:\n",
    "    pass         #pass로 그냥 넘긴다."
   ]
  },
  {
   "cell_type": "code",
   "execution_count": 6,
   "id": "17b6e6c9",
   "metadata": {},
   "outputs": [
    {
     "name": "stdout",
     "output_type": "stream",
     "text": [
      "에러의 원인은  division by zero\n"
     ]
    }
   ],
   "source": [
    "try:\n",
    "    a = 12 / 0\n",
    "except Exception as e:\n",
    "    print(\"에러의 원인은 \", e)      #에러의 원인을 바로 표현 가능"
   ]
  }
 ],
 "metadata": {
  "kernelspec": {
   "display_name": "Python 3 (ipykernel)",
   "language": "python",
   "name": "python3"
  },
  "language_info": {
   "codemirror_mode": {
    "name": "ipython",
    "version": 3
   },
   "file_extension": ".py",
   "mimetype": "text/x-python",
   "name": "python",
   "nbconvert_exporter": "python",
   "pygments_lexer": "ipython3",
   "version": "3.9.7"
  }
 },
 "nbformat": 4,
 "nbformat_minor": 5
}
