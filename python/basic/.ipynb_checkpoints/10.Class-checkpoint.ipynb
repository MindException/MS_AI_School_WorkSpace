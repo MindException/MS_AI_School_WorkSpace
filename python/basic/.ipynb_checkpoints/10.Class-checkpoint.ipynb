{
 "cells": [
  {
   "cell_type": "code",
   "execution_count": 3,
   "id": "73c58479",
   "metadata": {},
   "outputs": [],
   "source": [
    "#나중에 입력한다는 뜻으로 pass 를 사용한다. C언어의 프로토콜타입과 같은 유형\n",
    "class MyClass:\n",
    "    pass"
   ]
  },
  {
   "cell_type": "code",
   "execution_count": 4,
   "id": "4fc9e8b4",
   "metadata": {},
   "outputs": [
    {
     "data": {
      "text/plain": [
       "__main__.MyClass"
      ]
     },
     "execution_count": 4,
     "metadata": {},
     "output_type": "execute_result"
    }
   ],
   "source": [
    "MyClass"
   ]
  },
  {
   "cell_type": "code",
   "execution_count": 6,
   "id": "4fbd9460",
   "metadata": {},
   "outputs": [
    {
     "data": {
      "text/plain": [
       "type"
      ]
     },
     "execution_count": 6,
     "metadata": {},
     "output_type": "execute_result"
    }
   ],
   "source": [
    "type(MyClass)   #안에 특정할 것이 없기 때문에 저렇게 나온다"
   ]
  },
  {
   "cell_type": "code",
   "execution_count": 10,
   "id": "97a64964",
   "metadata": {},
   "outputs": [],
   "source": [
    "#클래스는 기본적으로 속성과 동작이 있다.\n",
    "class Person:\n",
    "    Name = 'Default Name'   # Property(속성)\n",
    "    \n",
    "    def Print(self):\n",
    "        print('My name is {0}'.format(self.Name))"
   ]
  },
  {
   "cell_type": "code",
   "execution_count": 13,
   "id": "e848d77f",
   "metadata": {},
   "outputs": [
    {
     "name": "stdout",
     "output_type": "stream",
     "text": [
      "My name is Default Name\n",
      "My name is 손흥민\n"
     ]
    }
   ],
   "source": [
    "son = Person()\n",
    "son.Print()\n",
    "son.Name = '손흥민'\n",
    "son.Print()"
   ]
  },
  {
   "cell_type": "code",
   "execution_count": 14,
   "id": "808ff626",
   "metadata": {},
   "outputs": [],
   "source": [
    "p1 = Person()\n",
    "p2 = Person()"
   ]
  },
  {
   "cell_type": "code",
   "execution_count": 15,
   "id": "f3aa8a03",
   "metadata": {},
   "outputs": [],
   "source": [
    "p1.Name = '박보검'\n",
    "p2.Name = '민아'"
   ]
  },
  {
   "cell_type": "code",
   "execution_count": 17,
   "id": "0bcf89d0",
   "metadata": {},
   "outputs": [
    {
     "name": "stdout",
     "output_type": "stream",
     "text": [
      "My name is 박보검\n",
      "My name is 민아\n"
     ]
    }
   ],
   "source": [
    "p1.Print()\n",
    "p2.Print()"
   ]
  },
  {
   "cell_type": "code",
   "execution_count": 18,
   "id": "da0e31a9",
   "metadata": {},
   "outputs": [],
   "source": [
    "# instance\n",
    "\n",
    "Person.title = 'New title'       #다른 언어들을 추가가 불가능하지만 파이썬은 이렇게 중간에 추가가 가능하다."
   ]
  },
  {
   "cell_type": "code",
   "execution_count": 19,
   "id": "8437d3a6",
   "metadata": {},
   "outputs": [
    {
     "data": {
      "text/plain": [
       "'New title'"
      ]
     },
     "execution_count": 19,
     "metadata": {},
     "output_type": "execute_result"
    }
   ],
   "source": [
    "p1.title                         #이미 동작 중인 개체에도 영향을 준다.(ln [14:15] 참조)\n",
    "                                 #다른 언어들과는 다른 점이지만 이게 메모리적으로 좋을지는 잘 모르겠다."
   ]
  },
  {
   "cell_type": "code",
   "execution_count": 20,
   "id": "38f319e7",
   "metadata": {},
   "outputs": [],
   "source": [
    "p1.age = 20"
   ]
  },
  {
   "cell_type": "code",
   "execution_count": 22,
   "id": "77473fe3",
   "metadata": {},
   "outputs": [
    {
     "ename": "AttributeError",
     "evalue": "type object 'Person' has no attribute 'age'",
     "output_type": "error",
     "traceback": [
      "\u001b[1;31m---------------------------------------------------------------------------\u001b[0m",
      "\u001b[1;31mAttributeError\u001b[0m                            Traceback (most recent call last)",
      "\u001b[1;32m~\\AppData\\Local\\Temp/ipykernel_26196/389873077.py\u001b[0m in \u001b[0;36m<module>\u001b[1;34m\u001b[0m\n\u001b[0;32m      1\u001b[0m \u001b[0mp1\u001b[0m\u001b[1;33m.\u001b[0m\u001b[0mage\u001b[0m\u001b[1;33m\u001b[0m\u001b[1;33m\u001b[0m\u001b[0m\n\u001b[1;32m----> 2\u001b[1;33m \u001b[0mPerson\u001b[0m\u001b[1;33m.\u001b[0m\u001b[0mage\u001b[0m\u001b[1;33m\u001b[0m\u001b[1;33m\u001b[0m\u001b[0m\n\u001b[0m",
      "\u001b[1;31mAttributeError\u001b[0m: type object 'Person' has no attribute 'age'"
     ]
    }
   ],
   "source": [
    "p1.age                            #<-  개인 적으로 추가된 것은 가능하다.\n",
    "Person.age                       #<- 설계 도면에 인스턴스를 추가한게 아닌 이상 에러 발생"
   ]
  },
  {
   "cell_type": "code",
   "execution_count": 23,
   "id": "b14e1d93",
   "metadata": {},
   "outputs": [],
   "source": [
    "# 클래스의 상속\n",
    "\n",
    "class Person:\n",
    "    pass"
   ]
  },
  {
   "cell_type": "code",
   "execution_count": 24,
   "id": "816bad20",
   "metadata": {},
   "outputs": [],
   "source": [
    "class Bird:\n",
    "    pass"
   ]
  },
  {
   "cell_type": "code",
   "execution_count": 25,
   "id": "ae01214e",
   "metadata": {},
   "outputs": [],
   "source": [
    "class Student(Person):\n",
    "    pass"
   ]
  },
  {
   "cell_type": "code",
   "execution_count": 26,
   "id": "a59c69e6",
   "metadata": {},
   "outputs": [],
   "source": [
    "p = Person()\n",
    "s = Student()"
   ]
  },
  {
   "cell_type": "code",
   "execution_count": 27,
   "id": "b4ca0ede",
   "metadata": {},
   "outputs": [
    {
     "data": {
      "text/plain": [
       "True"
      ]
     },
     "execution_count": 27,
     "metadata": {},
     "output_type": "execute_result"
    }
   ],
   "source": [
    "isinstance(p, Person)        #방금 만들어진 클래스가 어디서부터 나온 클래스인지 확인하는 명령어이다."
   ]
  },
  {
   "cell_type": "code",
   "execution_count": 28,
   "id": "51a32a7e",
   "metadata": {},
   "outputs": [
    {
     "data": {
      "text/plain": [
       "True"
      ]
     },
     "execution_count": 28,
     "metadata": {},
     "output_type": "execute_result"
    }
   ],
   "source": [
    "isinstance(s, Person)        #상속받아서 만들어진 것이기 때문에 맞다"
   ]
  },
  {
   "cell_type": "code",
   "execution_count": 29,
   "id": "176f30b6",
   "metadata": {},
   "outputs": [
    {
     "data": {
      "text/plain": [
       "True"
      ]
     },
     "execution_count": 29,
     "metadata": {},
     "output_type": "execute_result"
    }
   ],
   "source": [
    "isinstance(s, object)        #모든 클래스는 오브젝트이다."
   ]
  },
  {
   "cell_type": "code",
   "execution_count": 35,
   "id": "52cb617f",
   "metadata": {},
   "outputs": [],
   "source": [
    "#생성자, 소멸자\n",
    "\n",
    "class MyClass:\n",
    "    #생성자 - 이름이 정해져있다.\n",
    "    def __init__(self, value):     #value는 변수 이름이라 다른 것으로 해도 되지만 self는 고정\n",
    "        self.Value = value\n",
    "        print('Class is created! Value = ', value)\n",
    "        \n",
    "    #소멸자 - 소멸자도 이름이 정해져 있다.\n",
    "    def __del__(self):\n",
    "        print(\"Class is deleted\")"
   ]
  },
  {
   "cell_type": "code",
   "execution_count": 36,
   "id": "9edbf550",
   "metadata": {},
   "outputs": [
    {
     "name": "stdout",
     "output_type": "stream",
     "text": [
      "Class is created! Value =  10\n"
     ]
    }
   ],
   "source": [
    "m = MyClass(10)       #value를 입력하지 않으면 오류가 뜬다."
   ]
  },
  {
   "cell_type": "code",
   "execution_count": 37,
   "id": "c22fae13",
   "metadata": {},
   "outputs": [
    {
     "name": "stdout",
     "output_type": "stream",
     "text": [
      "Class is deleted\n"
     ]
    }
   ],
   "source": [
    "del m                 #평소에 배열들을 지울 때 앞에 del을 붙이는 이유를 볼 수 있다."
   ]
  },
  {
   "cell_type": "code",
   "execution_count": 38,
   "id": "e79e76a6",
   "metadata": {},
   "outputs": [],
   "source": [
    "# 정적 메소드\n",
    "\n",
    "class CounterManger:\n",
    "    insCount = 0\n",
    "    \n",
    "    def __init__(self):\n",
    "        CounterManger.insCount += 1\n",
    "        \n",
    "    def printInstanceCount():\n",
    "        print('Instance Count: ', CounterManger.insCount)"
   ]
  },
  {
   "cell_type": "code",
   "execution_count": 39,
   "id": "444f6c9d",
   "metadata": {},
   "outputs": [],
   "source": [
    "a, b, c = CounterManger(), CounterManger(), CounterManger()"
   ]
  },
  {
   "cell_type": "code",
   "execution_count": 40,
   "id": "36c9ea26",
   "metadata": {},
   "outputs": [
    {
     "name": "stdout",
     "output_type": "stream",
     "text": [
      "Instance Count:  3\n"
     ]
    }
   ],
   "source": [
    "CounterManger.printInstanceCount()"
   ]
  },
  {
   "cell_type": "code",
   "execution_count": 41,
   "id": "30507111",
   "metadata": {},
   "outputs": [],
   "source": [
    "# 상속의 확장\n",
    "\n",
    "class Person:\n",
    "    def __init__(self, name, phone):\n",
    "        self.Name = name\n",
    "        self.Phone = phone\n",
    "        \n",
    "    def PrintInfo(self):\n",
    "        print('Info(Name: {0}, Phone: {1})'.format(self.Name, self.Phone))\n",
    "        \n",
    "    def PrintPersonalData(self):\n",
    "        print('Person(Name: {0}, Phone: {1})'.format(self.Name, self.Phone))"
   ]
  },
  {
   "cell_type": "code",
   "execution_count": 51,
   "id": "73728b37",
   "metadata": {},
   "outputs": [],
   "source": [
    "class Student(Person):\n",
    "    def __init__(self, name, phone, subject, studentID):\n",
    "        self.Name = name\n",
    "        self.Phone = phone\n",
    "        self.Subject = subject\n",
    "        self.StudentID = studentID\n",
    "        \n",
    "    def PrintStudentID(self):\n",
    "        print(self.StudentID)"
   ]
  },
  {
   "cell_type": "code",
   "execution_count": 52,
   "id": "9ab2f6dc",
   "metadata": {},
   "outputs": [],
   "source": [
    "p = Person('IU', '010-0000-0000')\n",
    "s = Student('MinA', '010-111-1111', 'Computer Science', '00000')"
   ]
  },
  {
   "cell_type": "code",
   "execution_count": 53,
   "id": "7614dc35",
   "metadata": {},
   "outputs": [
    {
     "data": {
      "text/plain": [
       "{'Name': 'IU', 'Phone': '010-0000-0000'}"
      ]
     },
     "execution_count": 53,
     "metadata": {},
     "output_type": "execute_result"
    }
   ],
   "source": [
    "# 파이썬은 모든 자신의 속성을 딕션어리로 가지고 있다.\n",
    "\n",
    "p.__dict__"
   ]
  },
  {
   "cell_type": "code",
   "execution_count": 54,
   "id": "d0e9a957",
   "metadata": {},
   "outputs": [
    {
     "data": {
      "text/plain": [
       "{'Name': 'MinA',\n",
       " 'Phone': '010-111-1111',\n",
       " 'Subject': 'Computer Science',\n",
       " 'StudentID': '00000'}"
      ]
     },
     "execution_count": 54,
     "metadata": {},
     "output_type": "execute_result"
    }
   ],
   "source": [
    "s.__dict__"
   ]
  },
  {
   "cell_type": "code",
   "execution_count": 55,
   "id": "54ee1949",
   "metadata": {},
   "outputs": [
    {
     "name": "stdout",
     "output_type": "stream",
     "text": [
      "Info(Name: IU, Phone: 010-0000-0000)\n"
     ]
    }
   ],
   "source": [
    "p.PrintInfo()"
   ]
  },
  {
   "cell_type": "code",
   "execution_count": 56,
   "id": "24b183cc",
   "metadata": {},
   "outputs": [
    {
     "name": "stdout",
     "output_type": "stream",
     "text": [
      "Info(Name: MinA, Phone: 010-111-1111)\n"
     ]
    }
   ],
   "source": [
    "s.PrintInfo()"
   ]
  },
  {
   "cell_type": "code",
   "execution_count": 57,
   "id": "8e70dd39",
   "metadata": {},
   "outputs": [
    {
     "name": "stdout",
     "output_type": "stream",
     "text": [
      "00000\n"
     ]
    }
   ],
   "source": [
    "s.PrintStudentID()"
   ]
  },
  {
   "cell_type": "code",
   "execution_count": 58,
   "id": "6a41a178",
   "metadata": {},
   "outputs": [
    {
     "data": {
      "text/plain": [
       "True"
      ]
     },
     "execution_count": 58,
     "metadata": {},
     "output_type": "execute_result"
    }
   ],
   "source": [
    "# 상속 관계의 확인\n",
    "\n",
    "issubclass(Student, Person)"
   ]
  },
  {
   "cell_type": "code",
   "execution_count": 59,
   "id": "7cd9c40f",
   "metadata": {},
   "outputs": [
    {
     "data": {
      "text/plain": [
       "False"
      ]
     },
     "execution_count": 59,
     "metadata": {},
     "output_type": "execute_result"
    }
   ],
   "source": [
    "issubclass(Person, Student)"
   ]
  },
  {
   "cell_type": "code",
   "execution_count": 60,
   "id": "0de18fc5",
   "metadata": {},
   "outputs": [],
   "source": [
    "# 다중 상속\n",
    "#C++에는 있지만 자바와 C#에는 없다. 그 이유는 관계가 많이 꼬이기 때문에 잘 안쓰이기 때문이다.\n",
    "\n",
    "class Tiger:\n",
    "    def Jump(self):\n",
    "        print('Tiger Jump!!')\n",
    "\n",
    "class Lion:\n",
    "    def Bite(self):\n",
    "        print('Lion Bite')\n",
    "        \n",
    "class Liger(Tiger, Lion):\n",
    "    def Play(self):\n",
    "        print('Liger play')"
   ]
  },
  {
   "cell_type": "code",
   "execution_count": 61,
   "id": "92a312cd",
   "metadata": {},
   "outputs": [],
   "source": [
    "l = Liger()"
   ]
  },
  {
   "cell_type": "code",
   "execution_count": 62,
   "id": "124217bd",
   "metadata": {},
   "outputs": [
    {
     "name": "stdout",
     "output_type": "stream",
     "text": [
      "Liger play\n",
      "Tiger Jump!!\n",
      "Lion Bite\n"
     ]
    }
   ],
   "source": [
    "l.Play()\n",
    "l.Jump()\n",
    "l.Bite()"
   ]
  },
  {
   "cell_type": "code",
   "execution_count": null,
   "id": "da4397a4",
   "metadata": {},
   "outputs": [],
   "source": []
  }
 ],
 "metadata": {
  "kernelspec": {
   "display_name": "Python 3 (ipykernel)",
   "language": "python",
   "name": "python3"
  },
  "language_info": {
   "codemirror_mode": {
    "name": "ipython",
    "version": 3
   },
   "file_extension": ".py",
   "mimetype": "text/x-python",
   "name": "python",
   "nbconvert_exporter": "python",
   "pygments_lexer": "ipython3",
   "version": "3.9.7"
  }
 },
 "nbformat": 4,
 "nbformat_minor": 5
}
