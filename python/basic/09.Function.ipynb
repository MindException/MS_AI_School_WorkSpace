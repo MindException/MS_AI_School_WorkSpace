{
 "cells": [
  {
   "cell_type": "code",
   "execution_count": 1,
   "id": "8308ed9a",
   "metadata": {},
   "outputs": [],
   "source": [
    "def ReturnName():\n",
    "    print('My name is IU')"
   ]
  },
  {
   "cell_type": "code",
   "execution_count": 2,
   "id": "c11287fd",
   "metadata": {},
   "outputs": [
    {
     "name": "stdout",
     "output_type": "stream",
     "text": [
      "My name is IU\n"
     ]
    }
   ],
   "source": [
    "ReturnName()"
   ]
  },
  {
   "cell_type": "code",
   "execution_count": 3,
   "id": "305675b9",
   "metadata": {},
   "outputs": [],
   "source": [
    "def ReturnName2(name):\n",
    "    print('My name is {}'.format(name))"
   ]
  },
  {
   "cell_type": "code",
   "execution_count": 4,
   "id": "ec2fcb3a",
   "metadata": {},
   "outputs": [
    {
     "name": "stdout",
     "output_type": "stream",
     "text": [
      "My name is Karina\n"
     ]
    }
   ],
   "source": [
    "ReturnName2('Karina')"
   ]
  },
  {
   "cell_type": "code",
   "execution_count": 5,
   "id": "964dd832",
   "metadata": {},
   "outputs": [],
   "source": [
    "def calc(a, b):\n",
    "    c = a * b\n",
    "    \n",
    "    return c"
   ]
  },
  {
   "cell_type": "code",
   "execution_count": 6,
   "id": "d732e102",
   "metadata": {},
   "outputs": [
    {
     "data": {
      "text/plain": [
       "30"
      ]
     },
     "execution_count": 6,
     "metadata": {},
     "output_type": "execute_result"
    }
   ],
   "source": [
    "calc(3, 10) "
   ]
  },
  {
   "cell_type": "code",
   "execution_count": 7,
   "id": "63b2647c",
   "metadata": {},
   "outputs": [
    {
     "data": {
      "text/plain": [
       "1989579444576"
      ]
     },
     "execution_count": 7,
     "metadata": {},
     "output_type": "execute_result"
    }
   ],
   "source": [
    "id(calc)"
   ]
  }
 ],
 "metadata": {
  "kernelspec": {
   "display_name": "Python 3 (ipykernel)",
   "language": "python",
   "name": "python3"
  },
  "language_info": {
   "codemirror_mode": {
    "name": "ipython",
    "version": 3
   },
   "file_extension": ".py",
   "mimetype": "text/x-python",
   "name": "python",
   "nbconvert_exporter": "python",
   "pygments_lexer": "ipython3",
   "version": "3.9.7"
  }
 },
 "nbformat": 4,
 "nbformat_minor": 5
}
